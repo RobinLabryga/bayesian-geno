{
 "cells": [
  {
   "cell_type": "markdown",
   "metadata": {},
   "source": [
    "# Acquisition Functions"
   ]
  },
  {
   "cell_type": "code",
   "execution_count": null,
   "metadata": {},
   "outputs": [],
   "source": [
    "import numpy as np\n",
    "import matplotlib.pyplot as plt\n",
    "import gaussian_process.GPfunctions as gp\n",
    "\n",
    "from gaussian_process.kernels import SquaredExponentialKernel\n",
    "from acquisition import (\n",
    "    UpperConfidenceBound,\n",
    "    LowerConfidenceBound,\n",
    "    UpperConfidenceBoundVariance,\n",
    "    LowerConfidenceBoundVariance,\n",
    "    ProbabilityOfImprovement_maximization,\n",
    "    ProbabilityOfImprovement_minimization,\n",
    "    ExpectedImprovement_maximization,\n",
    "    ExpectedImprovement_minimization,\n",
    "    GP_UCB,\n",
    "    GP_LCB,\n",
    "    GP_UCB_Variance,\n",
    "    GP_LCB_Variance,\n",
    ")\n",
    "from gaussian_process import GaussianProcess"
   ]
  },
  {
   "cell_type": "code",
   "execution_count": null,
   "metadata": {},
   "outputs": [],
   "source": [
    "# Objective function\n",
    "\n",
    "objectiveFunction = lambda x: -x * np.sin(x)\n",
    "objectiveFunctionDerivative = lambda x: -x * np.cos(x) + np.sin(x)\n",
    "\n",
    "X = np.linspace(start=-3.0, stop=3.0, num=1_000)\n",
    "y = objectiveFunction(X)\n",
    "g = objectiveFunctionDerivative(X)\n",
    "\n",
    "rng = np.random.default_rng(1)\n",
    "training_indices = rng.choice(np.arange(y.size), size=6, replace=False)\n",
    "X_train, y_train, g_train = (\n",
    "    X[training_indices],\n",
    "    y[training_indices],\n",
    "    g[training_indices],\n",
    ")"
   ]
  },
  {
   "cell_type": "code",
   "execution_count": null,
   "metadata": {},
   "outputs": [],
   "source": [
    "kernel = SquaredExponentialKernel()\n",
    "\n",
    "GP_posterior = GaussianProcess(\n",
    "    kernel=kernel,\n",
    "    x_known=X_train,\n",
    "    f_known=y_train,\n",
    "    g_known=g_train,\n",
    "    f_noise=1e-14,\n",
    "    g_noise=1e-14,\n",
    ")\n",
    "\n",
    "mean, variance = GP_posterior(X)\n",
    "std = GP_posterior.std_deviation(X)"
   ]
  },
  {
   "cell_type": "markdown",
   "metadata": {},
   "source": [
    "## UCB"
   ]
  },
  {
   "cell_type": "code",
   "execution_count": null,
   "metadata": {},
   "outputs": [],
   "source": [
    "acquisition_function = UpperConfidenceBound(GP_posterior)\n",
    "\n",
    "acq, acq_der = acquisition_function.value_derivative(X)\n",
    "\n",
    "fig, (ax1) = plt.subplots(1, 1)\n",
    "gp.plot_objective(ax1, X, y, X_train, y_train)\n",
    "gp.plot_gp(ax1, X, mean, std)\n",
    "ax1.plot(X, acq, label=\"Acquisition\")\n",
    "ax1.plot(X, acq_der, label=\"Acquisition derivative\")\n",
    "gp.plot_label(ax1, acquisition_function.__class__.__name__)\n",
    "plt.show()"
   ]
  },
  {
   "cell_type": "markdown",
   "metadata": {},
   "source": [
    "## LCB"
   ]
  },
  {
   "cell_type": "code",
   "execution_count": null,
   "metadata": {},
   "outputs": [],
   "source": [
    "acquisition_function = LowerConfidenceBound(GP_posterior)\n",
    "\n",
    "acq, acq_der = acquisition_function.value_derivative(X)\n",
    "\n",
    "fig, (ax1) = plt.subplots(1, 1)\n",
    "gp.plot_objective(ax1, X, y, X_train, y_train)\n",
    "gp.plot_gp(ax1, X, mean, std)\n",
    "ax1.plot(X, acq, label=\"Acquisition\")\n",
    "ax1.plot(X, acq_der, label=\"Acquisition derivative\")\n",
    "gp.plot_label(ax1, acquisition_function.__class__.__name__)\n",
    "plt.show()"
   ]
  },
  {
   "cell_type": "markdown",
   "metadata": {},
   "source": [
    "## UCB via variance"
   ]
  },
  {
   "cell_type": "code",
   "execution_count": null,
   "metadata": {},
   "outputs": [],
   "source": [
    "acquisition_function = UpperConfidenceBoundVariance(GP_posterior)\n",
    "\n",
    "acq, acq_der = acquisition_function.value_derivative(X)\n",
    "\n",
    "fig, (ax1) = plt.subplots(1, 1)\n",
    "gp.plot_objective(ax1, X, y, X_train, y_train)\n",
    "gp.plot_gp(ax1, X, mean, std)\n",
    "ax1.plot(X, acq, label=\"Acquisition\")\n",
    "ax1.plot(X, acq_der, label=\"Acquisition derivative\")\n",
    "gp.plot_label(ax1, acquisition_function.__class__.__name__)\n",
    "plt.show()"
   ]
  },
  {
   "cell_type": "markdown",
   "metadata": {},
   "source": [
    "## LCB via variance"
   ]
  },
  {
   "cell_type": "code",
   "execution_count": null,
   "metadata": {},
   "outputs": [],
   "source": [
    "acquisition_function = LowerConfidenceBoundVariance(GP_posterior)\n",
    "\n",
    "acq, acq_der = acquisition_function.value_derivative(X)\n",
    "\n",
    "fig, (ax1) = plt.subplots(1, 1)\n",
    "gp.plot_objective(ax1, X, y, X_train, y_train)\n",
    "gp.plot_gp(ax1, X, mean, std)\n",
    "ax1.plot(X, acq, label=\"Acquisition\")\n",
    "ax1.plot(X, acq_der, label=\"Acquisition derivative\")\n",
    "gp.plot_label(ax1, acquisition_function.__class__.__name__)\n",
    "plt.show()"
   ]
  },
  {
   "cell_type": "markdown",
   "metadata": {},
   "source": [
    "## PI"
   ]
  },
  {
   "cell_type": "code",
   "execution_count": null,
   "metadata": {},
   "outputs": [],
   "source": [
    "acquisition_function = ProbabilityOfImprovement_maximization(\n",
    "    GP_posterior, np.max(y_train)\n",
    ")\n",
    "\n",
    "fig, (ax1) = plt.subplots(1, 1)\n",
    "gp.plot_objective(ax1, X, y, X_train, y_train)\n",
    "gp.plot_gp(ax1, X, mean, std)\n",
    "ax1.plot(X, [acquisition_function(x) for x in X], label=\"Acquisition\")\n",
    "ax1.plot(\n",
    "    # X, [acquisition_function.derivative(x) for x in X], label=\"Acquisition derivative\"\n",
    ")\n",
    "gp.plot_label(ax1, f\"{acquisition_function.__class__.__name__}\")\n",
    "plt.show()\n",
    "\n",
    "acquisition_function = ProbabilityOfImprovement_minimization(\n",
    "    GP_posterior, np.min(y_train)\n",
    ")\n",
    "\n",
    "fig, (ax1) = plt.subplots(1, 1)\n",
    "gp.plot_objective(ax1, X, y, X_train, y_train)\n",
    "gp.plot_gp(ax1, X, mean, std)\n",
    "ax1.plot(X, [acquisition_function(x) for x in X], label=\"Acquisition\")\n",
    "ax1.plot(\n",
    "    # X, [acquisition_function.derivative(x) for x in X], label=\"Acquisition derivative\"\n",
    ")\n",
    "gp.plot_label(ax1, f\"{acquisition_function.__class__.__name__}\")\n",
    "plt.show()"
   ]
  },
  {
   "cell_type": "markdown",
   "metadata": {},
   "source": [
    "## EI"
   ]
  },
  {
   "cell_type": "code",
   "execution_count": null,
   "metadata": {},
   "outputs": [],
   "source": [
    "acquisition_function = ExpectedImprovement_maximization(GP_posterior, np.max(y_train))\n",
    "\n",
    "fig, (ax1) = plt.subplots(1, 1)\n",
    "gp.plot_objective(ax1, X, y, X_train, y_train)\n",
    "gp.plot_gp(ax1, X, mean, std)\n",
    "ax1.plot(X, [acquisition_function(x) for x in X], label=\"Acquisition\")\n",
    "ax1.plot(\n",
    "    X, [acquisition_function.derivative(x) for x in X], label=\"Acquisition derivative\"\n",
    ")\n",
    "gp.plot_label(ax1, f\"{acquisition_function.__class__.__name__}\")\n",
    "plt.show()\n",
    "\n",
    "acquisition_function = ExpectedImprovement_minimization(GP_posterior, np.min(y_train))\n",
    "\n",
    "fig, (ax1) = plt.subplots(1, 1)\n",
    "gp.plot_objective(ax1, X, y, X_train, y_train)\n",
    "gp.plot_gp(ax1, X, mean, std)\n",
    "ax1.plot(X, [acquisition_function(x) for x in X], label=\"Acquisition\")\n",
    "ax1.plot(\n",
    "    X, [acquisition_function.derivative(x) for x in X], label=\"Acquisition derivative\"\n",
    ")\n",
    "gp.plot_label(ax1, f\"{acquisition_function.__class__.__name__}\")\n",
    "plt.show()"
   ]
  },
  {
   "cell_type": "markdown",
   "metadata": {},
   "source": [
    "## GP_UCB"
   ]
  },
  {
   "cell_type": "code",
   "execution_count": null,
   "metadata": {},
   "outputs": [],
   "source": [
    "acquisition_function = GP_UCB(GP_posterior, len(X_train), 1)\n",
    "\n",
    "acq, acq_der = acquisition_function.value_derivative(X)\n",
    "\n",
    "fig, (ax1) = plt.subplots(1, 1)\n",
    "gp.plot_objective(ax1, X, y, X_train, y_train)\n",
    "gp.plot_gp(ax1, X, mean, std)\n",
    "ax1.plot(X, acq, label=\"Acquisition\")\n",
    "ax1.plot(X, acq_der, label=\"Acquisition derivative\")\n",
    "gp.plot_label(ax1, acquisition_function.__class__.__name__)\n",
    "plt.show()\n",
    "\n",
    "acquisition_function = GP_LCB(GP_posterior, len(X_train), 1)\n",
    "\n",
    "acq, acq_der = acquisition_function.value_derivative(X)\n",
    "\n",
    "fig, (ax1) = plt.subplots(1, 1)\n",
    "gp.plot_objective(ax1, X, y, X_train, y_train)\n",
    "gp.plot_gp(ax1, X, mean, std)\n",
    "ax1.plot(X, acq, label=\"Acquisition\")\n",
    "ax1.plot(X, acq_der, label=\"Acquisition derivative\")\n",
    "gp.plot_label(ax1, acquisition_function.__class__.__name__)\n",
    "plt.show()"
   ]
  },
  {
   "cell_type": "markdown",
   "metadata": {},
   "source": [
    "### GP-UCB via variance"
   ]
  },
  {
   "cell_type": "code",
   "execution_count": null,
   "metadata": {},
   "outputs": [],
   "source": [
    "acquisition_function = GP_UCB_Variance(GP_posterior, len(X_train), 1)\n",
    "\n",
    "acq, acq_der = acquisition_function.value_derivative(X)\n",
    "\n",
    "fig, (ax1) = plt.subplots(1, 1)\n",
    "gp.plot_objective(ax1, X, y, X_train, y_train)\n",
    "gp.plot_gp(ax1, X, mean, std)\n",
    "ax1.plot(X, acq, label=\"Acquisition\")\n",
    "ax1.plot(X, acq_der, label=\"Acquisition derivative\")\n",
    "gp.plot_label(ax1, acquisition_function.__class__.__name__)\n",
    "plt.show()\n",
    "\n",
    "acquisition_function = GP_LCB_Variance(GP_posterior, len(X_train), 1)\n",
    "\n",
    "acq, acq_der = acquisition_function.value_derivative(X)\n",
    "\n",
    "fig, (ax1) = plt.subplots(1, 1)\n",
    "gp.plot_objective(ax1, X, y, X_train, y_train)\n",
    "gp.plot_gp(ax1, X, mean, std)\n",
    "ax1.plot(X, acq, label=\"Acquisition\")\n",
    "ax1.plot(X, acq_der, label=\"Acquisition derivative\")\n",
    "gp.plot_label(ax1, acquisition_function.__class__.__name__)\n",
    "plt.show()"
   ]
  }
 ],
 "metadata": {
  "kernelspec": {
   "display_name": "Python 3",
   "language": "python",
   "name": "python3"
  },
  "language_info": {
   "codemirror_mode": {
    "name": "ipython",
    "version": 3
   },
   "file_extension": ".py",
   "mimetype": "text/x-python",
   "name": "python",
   "nbconvert_exporter": "python",
   "pygments_lexer": "ipython3",
   "version": "3.12.2"
  }
 },
 "nbformat": 4,
 "nbformat_minor": 2
}
