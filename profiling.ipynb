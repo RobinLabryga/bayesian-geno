{
 "cells": [
  {
   "cell_type": "markdown",
   "metadata": {},
   "source": [
    "# Profiling"
   ]
  },
  {
   "cell_type": "code",
   "execution_count": null,
   "metadata": {},
   "outputs": [],
   "source": [
    "import os\n",
    "import cProfile\n",
    "import pstats\n",
    "from bayesian_line_search import GPgenosolver\n",
    "\n",
    "os.environ[\"ARCHDEFS\"] = f\"{os.path.abspath(os.getcwd())}/../CUTEst/ARCHDefs/\"\n",
    "os.environ[\"SIFDECODE\"] = f\"{os.path.abspath(os.getcwd())}/../CUTEst/SIFDecode/\"\n",
    "os.environ[\"MASTSIF\"] = f\"{os.path.abspath(os.getcwd())}/../CUTEst/sif/\"\n",
    "os.environ[\"CUTEST\"] = f\"{os.path.abspath(os.getcwd())}/../CUTEst/CUTEst/\"\n",
    "os.environ[\"MYARCH\"] = \"mac64.osx.gfo\"\n",
    "os.environ[\"PYCUTEST_CACHE\"] = (\n",
    "    f\"{os.path.abspath(os.getcwd())}/../pycutest_cache_holder/\"\n",
    ")\n",
    "\n",
    "import pycutest\n",
    "\n",
    "problemNames = pycutest.find_problems(constraints=\"unconstrained\")\n",
    "problemName = problemNames[286]\n",
    "print(problemName)\n",
    "\n",
    "problem = pycutest.import_problem(problemName)\n",
    "\n",
    "\n",
    "def f():\n",
    "    fandg = lambda x: problem.obj(x, gradient=True)\n",
    "    GPgenosolver.minimize(fandg, problem.x0)\n",
    "\n",
    "\n",
    "cProfile.run(\"f()\", sort=pstats.SortKey.CUMULATIVE)"
   ]
  }
 ],
 "metadata": {
  "kernelspec": {
   "display_name": "Python 3",
   "language": "python",
   "name": "python3"
  },
  "language_info": {
   "codemirror_mode": {
    "name": "ipython",
    "version": 3
   },
   "file_extension": ".py",
   "mimetype": "text/x-python",
   "name": "python",
   "nbconvert_exporter": "python",
   "pygments_lexer": "ipython3",
   "version": "3.12.2"
  }
 },
 "nbformat": 4,
 "nbformat_minor": 2
}
