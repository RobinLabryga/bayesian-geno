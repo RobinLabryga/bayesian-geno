{
 "cells": [
  {
   "cell_type": "markdown",
   "metadata": {},
   "source": [
    "# Custom GENO"
   ]
  },
  {
   "cell_type": "code",
   "execution_count": null,
   "metadata": {
    "tags": []
   },
   "outputs": [],
   "source": [
    "import os\n",
    "\n",
    "os.environ[\"ARCHDEFS\"] = f\"{os.path.abspath(os.getcwd())}/../CUTEst/ARCHDefs/\"\n",
    "os.environ[\"SIFDECODE\"] = f\"{os.path.abspath(os.getcwd())}/../CUTEst/SIFDecode/\"\n",
    "os.environ[\"MASTSIF\"] = f\"{os.path.abspath(os.getcwd())}/../CUTEst/sif/\"\n",
    "os.environ[\"CUTEST\"] = f\"{os.path.abspath(os.getcwd())}/../CUTEst/CUTEst/\"\n",
    "os.environ[\"MYARCH\"] = \"mac64.osx.gfo\"\n",
    "os.environ[\"PYCUTEST_CACHE\"] = (\n",
    "    f\"{os.path.abspath(os.getcwd())}/../pycutest_cache_holder/\"\n",
    ")\n",
    "\n",
    "import pycutest\n",
    "\n",
    "problemNames = pycutest.find_problems(constraints=\"unconstrained\")\n",
    "print(f\"There are {len(problemNames)} unconstrained problems\")\n",
    "\n",
    "for problemName in problemNames[:2]:\n",
    "    problem = pycutest.import_problem(problemName)\n",
    "    problem.x0\n",
    "    f, g = problem.obj(problem.x0, gradient=True)"
   ]
  },
  {
   "cell_type": "code",
   "execution_count": null,
   "metadata": {},
   "outputs": [],
   "source": [
    "from timeit import default_timer as timer\n",
    "import pycutest\n",
    "import numpy as np\n",
    "\n",
    "# import cupy as np  # uncomment this for GPU usage"
   ]
  },
  {
   "cell_type": "code",
   "execution_count": null,
   "metadata": {},
   "outputs": [],
   "source": [
    "def solve(\n",
    "    problem: pycutest.CUTEstProblem,\n",
    "    np,\n",
    "    minimize,\n",
    "    verbose: int = 0,\n",
    "    line_search_debug_options=None,\n",
    "):\n",
    "    start = timer()\n",
    "    options = {\n",
    "        \"eps_pg\": 1e-9,  # Gradient for early stop\n",
    "        \"max_iter\": 3000,\n",
    "        \"verbose\": verbose,  # Set it to 0 to fully mute it.\n",
    "        \"max_ls\": 60,\n",
    "        \"max_sample_count\": 20,\n",
    "    }\n",
    "\n",
    "    if line_search_debug_options is not None:\n",
    "        options[\"line_search_debug_options\"] = line_search_debug_options\n",
    "\n",
    "    fandg = lambda x: problem.obj(x, gradient=True)\n",
    "    result = minimize(fandg, problem.x0, options=options, np=np)\n",
    "\n",
    "    # assemble solution and map back to original problem\n",
    "    elapsed = timer() - start\n",
    "    report = {\"result\": result, \"time\": elapsed}\n",
    "    return report"
   ]
  },
  {
   "cell_type": "markdown",
   "metadata": {},
   "source": [
    "Run with eps_pg=1e-5, max_iter=3000, max_ls=30, max_sample_count=30"
   ]
  },
  {
   "cell_type": "markdown",
   "metadata": {},
   "source": [
    "| Problem | Iteration | FunEvals | Time | Function Val | Proj Gradient | Comment |\n",
    "| --- | --- | --- | --- | --- | --- | --- |\n",
    "| SISSER | 1 | 3.9 | 473.68 | 1 | 1 |  comment |\n",
    "| BOXPOWER | 0.96491 | 1.0681 | 18.565 | 9.5492 | 1.1824 |  comment |\n",
    "| PALMER5C | 1 | 1.0714 | 413.45 | 1 | 1.0074 |  comment |\n",
    "| DENSCHNB | 1 | 1 | 1.4505 | 1 | 1 |  comment |\n",
    "| GBRAINLS | 0.58824 | 1.64 | 36.548 | 1 | 6.0943 |  comment |\n",
    "| QING | 0.84507 | 0.49837 | 811.16 | 1.1625 | 1.09 | Worse f due to termination luck, with stop at 1e-9 |\n",
    "| NONCVXU2 | 1 | 1.0091 | 1.6966 | 1 | 0.44979 | comment |\n",
    "| DIXON3DQ | 1 | 0.99262 | 1.8006 | 1.0035 | 0.22406 | comment |\n",
    "| BOX | 1 | 1.0833 | 2.8621 | 1 | 0.99929 | comment |\n",
    "| BOX2 | 1 | 14.81 | 2415.4 | 1 | 1 | comment |\n",
    "| BOX3 | 1 | 1.3846 | 114.52 | 0.56068 | 0.40995 | comment |\n",
    "| NONDIA | 1 | 3.6364 | 84.712 | 1 | 1 | comment |\n",
    "| DENSCHNC | 1 | 1 | 0.91546 | 1 | 1 | comment |\n",
    "| LANCZOS3LS | 1.1622 | 2.8315 | 410.22 | 1.0354 | 0.34591 | comment |\n",
    "| MGH09LS | 1.0263 | 1.2647 | 311.57 | 1 | 3.2315 | comment |\n",
    "| LANCZOS1LS | 0.97333 | 1.5943 | 226 | 1.0048 | 0.82816 | comment |\n",
    "| BA-L1LS | 0.89655 | 6.8498 | 2916.1 | 0.17307 | 0.76896 | Better value because of termination luck. Bad at small steps. |\n",
    "| BROYDN7D | 0.99939 | 0.99176 | 1.802 | 1 | 0.96248 | |\n",
    "| DENSCHNA | 1 | 1 | 1 | 1 | 1 | Randomly executes faster or slower than GENO |\n",
    "| QUARTC | 1 | 1.6042 | 10.074 | 1 | 1 | |\n",
    "| DEVGLA1 | 0.86667 | 0.6125 | 35.506 | 0.99957 | 0.33151 | |\n",
    "| FMINSRF2 | 0.98062 | 0.95926 | 1.6804 | 1 | 0.98687 | |\n",
    "| COSINE | 0.007 | 0.0072011 | 0.30156 | 1 | 0.00032012 | With gradient for early stop of 1e-9 |\n",
    "| CYCLOOCFLS | 1 | 1.0097 | 2.7466 | 0.9926 | 0.82379 | |\n",
    "| CHWIRUT2LS | 0.0096667 | 0.00022196 | 0.2326 | 1 | 0.00018083 | Faster, because it finds point with good gradient faster. Problem seems to be flat with weirdly large gradients everywhere. Both solvers keep searching with no improvement on f. |\n",
    "| SPIN2LS | 0.031333 | 0.0066367 | 1.528 | 3.3452e-05 | 0.41976 | Was bad on previous tries. Now performs great, since Matern and scaling seems to work good for finding small steps fast. |\n",
    "| TRIDIA | 0.29424 | 0.059919 | 9.1811 | 0.92146 | 0.62476 | GENO takes more than 3000 iterations |\n",
    "| MODBEALE | 0.0726 | 0.011435 | 0.089723 | 0.63518 | 0.98568 | GENO takes more than 3000 iterations |\n",
    "| EG2 | 0.012 | 0.010858 | 12.322 | 1 | 5.2065 | GENO goes in circles |"
   ]
  },
  {
   "cell_type": "markdown",
   "metadata": {},
   "source": [
    "### Skipped problems and reasons\n",
    "\n",
    "| Problem | reason |\n",
    "| --- | --- |\n",
    "| LRCOVTYPE | Slow for both because function is expensive. |\n",
    "| MGH10LS | GENO stops with approx. error, while GP-GENO keeps going for a long time |\n",
    "| BA-L16LS | Problem does not load at all |\n",
    "| GAUSS1LS | No improvement after a while. Just always the same value |\n",
    "| GAUSS3LS | No improvement after a while. Just always the same value |\n",
    "| MEYER3 | Very tiny steps required. GPGENO not good at that |\n",
    "| RAT42LS | Strong wolfe condition in first step immediately fulfilled but is weaker than normal line search condition in this case. Thus falls into trap |\n",
    "| LSC2LS | Quickly goes to better f, but takes forever to refine g|"
   ]
  },
  {
   "cell_type": "code",
   "execution_count": null,
   "metadata": {},
   "outputs": [],
   "source": [
    "problemNames = pycutest.find_problems(constraints=\"unconstrained\")\n",
    "problems_to_solve = [16]  # At most 288\n",
    "problem_names_to_solve = np.array(problemNames)[problems_to_solve]\n",
    "problem_names_to_solve = [\"HUMPS\"]"
   ]
  },
  {
   "cell_type": "code",
   "execution_count": null,
   "metadata": {},
   "outputs": [],
   "source": [
    "import bayesian_line_search.GPgenosolver as GPgenosolver\n",
    "from bayesian_line_search.line_search import LineSearchDebugOptions\n",
    "import genosolver\n",
    "\n",
    "genosolver.check_version(\"0.1.0\")\n",
    "\n",
    "reports = dict()\n",
    "\n",
    "for problemName in problem_names_to_solve:\n",
    "    reports[problemName] = dict()\n",
    "    problem = pycutest.import_problem(problemName)\n",
    "    print(f\"solving {problem.name} with geno\")\n",
    "    reports[problemName][\"geno\"] = solve(problem, np=np, minimize=genosolver.minimize)\n",
    "    reports[problemName][\"geno\"][\"report\"] = problem.report()\n",
    "    problem = pycutest.import_problem(problemName)\n",
    "    print(f\"solving {problem.name} with gp_geno\")\n",
    "    reports[problemName][\"gp_geno\"] = solve(\n",
    "        problem, np=np, minimize=GPgenosolver.minimize\n",
    "    )\n",
    "    reports[problemName][\"gp_geno\"][\"report\"] = problem.report()\n",
    "\n",
    "def print_solver_result(reports, solver):\n",
    "    print(f\"Results for {solver}:\")\n",
    "    print(f\" {\"Problem\":<10} {\"Iteration\":<10} {\"FunEvals\":<10} {\"Time\":<10} {\"Function Val\":<15} {\"Proj Gradient\":<15}\")\n",
    "    for problem, solver_reports in reports.items():\n",
    "        solver_report = solver_reports[solver]\n",
    "        result = solver_report[\"result\"]\n",
    "        pg = np.linalg.norm(- result.jac, np.inf)\n",
    "        print(f\" {problem:<10} {result.nit:<10} {result.nfev:<10} {solver_report[\"time\"]:<10.5g} {result.fun:<15.5e} {pg:<15.5e}\")\n",
    "\n",
    "def print_solver_comparison(reports, target, reference):\n",
    "    print(f\"Comparison between {target} and {reference}\")\n",
    "    print(f\" {\"Problem\":<10} {\"Iteration\":<15} {\"FunEvals\":<15} {\"Time\":<15} {\"Function Val\":<15} {\"Proj Gradient\":<15}\")\n",
    "    for problem, solver_reports in reports.items():\n",
    "        target_report = solver_reports[target]\n",
    "        reference_report = solver_reports[reference]\n",
    "        target_result = target_report[\"result\"]\n",
    "        reference_result = reference_report[\"result\"]\n",
    "        target_pg = np.linalg.norm(- target_result.jac, np.inf)\n",
    "        reference_pg = np.linalg.norm(- reference_result.jac, np.inf)\n",
    "        print(f\" {problem:<10} {target_result.nit/reference_result.nit:<15.5g} {target_result.nfev/reference_result.nfev:<15.5g} {target_report[\"time\"]/reference_report[\"time\"]:<15.5g} {target_result.fun/reference_result.fun:<15.5g} {target_pg/reference_pg:<15.5g}\")\n",
    "        # For md:\n",
    "        print(f\"| {problem} | {target_result.nit/reference_result.nit:.5g} | {target_result.nfev/reference_result.nfev:.5g} | {target_report[\"time\"]/reference_report[\"time\"]:.5g} | {target_result.fun/reference_result.fun:.5g} | {target_pg/reference_pg:.5g} | |\")\n",
    "\n",
    "print_solver_result(reports, \"geno\")\n",
    "print_solver_result(reports, \"gp_geno\")\n",
    "print_solver_comparison(reports, \"gp_geno\", \"geno\")"
   ]
  }
 ],
 "metadata": {
  "kernelspec": {
   "display_name": "Python 3",
   "language": "python",
   "name": "python3"
  },
  "language_info": {
   "codemirror_mode": {
    "name": "ipython",
    "version": 3
   },
   "file_extension": ".py",
   "mimetype": "text/x-python",
   "name": "python",
   "nbconvert_exporter": "python",
   "pygments_lexer": "ipython3",
   "version": "3.12.2"
  }
 },
 "nbformat": 4,
 "nbformat_minor": 2
}
