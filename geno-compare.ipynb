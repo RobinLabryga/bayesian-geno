{
 "cells": [
  {
   "cell_type": "markdown",
   "metadata": {},
   "source": [
    "# Custom GENO"
   ]
  },
  {
   "cell_type": "code",
   "execution_count": 1,
   "metadata": {
    "tags": []
   },
   "outputs": [
    {
     "name": "stdout",
     "output_type": "stream",
     "text": [
      "There are 289 unconstrained problems\n"
     ]
    }
   ],
   "source": [
    "import os\n",
    "\n",
    "os.environ[\"ARCHDEFS\"] = f\"{os.path.abspath(os.getcwd())}/../CUTEst/ARCHDefs/\"\n",
    "os.environ[\"SIFDECODE\"] = f\"{os.path.abspath(os.getcwd())}/../CUTEst/SIFDecode/\"\n",
    "os.environ[\"MASTSIF\"] = f\"{os.path.abspath(os.getcwd())}/../CUTEst/sif/\"\n",
    "os.environ[\"CUTEST\"] = f\"{os.path.abspath(os.getcwd())}/../CUTEst/CUTEst/\"\n",
    "os.environ[\"MYARCH\"] = \"mac64.osx.gfo\"\n",
    "os.environ[\"PYCUTEST_CACHE\"] = (\n",
    "    f\"{os.path.abspath(os.getcwd())}/../pycutest_cache_holder/\"\n",
    ")\n",
    "\n",
    "import pycutest\n",
    "\n",
    "problemNames = pycutest.find_problems(constraints=\"unconstrained\")\n",
    "print(f\"There are {len(problemNames)} unconstrained problems\")\n",
    "\n",
    "for problemName in problemNames[:2]:\n",
    "    problem = pycutest.import_problem(problemName)\n",
    "    problem.x0\n",
    "    f, g = problem.obj(problem.x0, gradient=True)"
   ]
  },
  {
   "cell_type": "code",
   "execution_count": 2,
   "metadata": {},
   "outputs": [],
   "source": [
    "from timeit import default_timer as timer\n",
    "import pycutest\n",
    "import numpy as np\n",
    "\n",
    "# import cupy as np  # uncomment this for GPU usage"
   ]
  },
  {
   "cell_type": "code",
   "execution_count": 3,
   "metadata": {},
   "outputs": [],
   "source": [
    "def solve(\n",
    "    problem: pycutest.CUTEstProblem,\n",
    "    np,\n",
    "    minimize,\n",
    "    verbose: int = 0,\n",
    "    line_search_debug_options=None,\n",
    "):\n",
    "    start = timer()\n",
    "    options = {\n",
    "        \"eps_pg\": 1e-5,  # Gradient for early stop\n",
    "        \"max_iter\": 3000,\n",
    "        \"verbose\": verbose,  # Set it to 0 to fully mute it.\n",
    "        \"max_ls\": 30,\n",
    "        \"max_sample_count\": 30,\n",
    "    }\n",
    "\n",
    "    if line_search_debug_options is not None:\n",
    "        options[\"line_search_debug_options\"] = line_search_debug_options\n",
    "\n",
    "    fandg = lambda x: problem.obj(x, gradient=True)\n",
    "    result = minimize(fandg, problem.x0, options=options, np=np)\n",
    "\n",
    "    # assemble solution and map back to original problem\n",
    "    elapsed = timer() - start\n",
    "    report = {\"result\": result, \"time\": elapsed}\n",
    "    return report"
   ]
  },
  {
   "cell_type": "markdown",
   "metadata": {},
   "source": [
    "Run with eps_pg=1e-5, max_iter=3000, max_ls=30, max_sample_count=30"
   ]
  },
  {
   "cell_type": "markdown",
   "metadata": {},
   "source": [
    "| Problem | Iteration | FunEvals | Time | Function Val | Proj Gradient | Comment |\n",
    "| --- | --- | --- | --- | --- | --- | --- |\n",
    "| SISSER | 1 | 3.9 | 473.68 | 1 | 1 |  comment |\n",
    "| BOXPOWER | 0.96491 | 1.0681 | 18.565 | 9.5492 | 1.1824 |  comment |\n",
    "| PALMER5C | 1 | 1.0714 | 413.45 | 1 | 1.0074 |  comment |\n",
    "| DENSCHNB | 1 | 1 | 1.4505 | 1 | 1 |  comment |\n",
    "| GBRAINLS | 0.58824 | 1.64 | 36.548 | 1 | 6.0943 |  comment |\n",
    "| QING | 0.93056 | 3.3785 | 1147.6 | 7.0888 | 1.2127 |  comment |\n",
    "| NONCVXU2 | 1 | 1.0091 | 1.6966 | 1 | 0.44979 | comment |\n",
    "| DIXON3DQ | 1 | 0.99262 | 1.8006 | 1.0035 | 0.22406 | comment |\n",
    "| BOX | 1 | 1.0833 | 2.8621 | 1 | 0.99929 | comment |\n",
    "| BOX2 | 1 | 14.81 | 2415.4 | 1 | 1 | comment |\n",
    "| BOX3 | 1 | 1.3846 | 114.52 | 0.56068 | 0.40995 | comment |\n",
    "| NONDIA | 1 | 3.6364 | 84.712 | 1 | 1 | comment |\n",
    "| DENSCHNC | 1 | 1 | 0.91546 | 1 | 1 | comment |\n",
    "| LANCZOS3LS | 1.1622 | 2.8315 | 410.22 | 1.0354 | 0.34591 | comment |\n",
    "| MGH09LS | 1.0263 | 1.2647 | 311.57 | 1 | 3.2315 | comment |\n",
    "| LANCZOS1LS | 0.97333 | 1.5943 | 226 | 1.0048 | 0.82816 | comment |\n",
    "| BA-L1LS | 0.89655 | 6.8498 | 2916.1 | 0.17307 | 0.76896 | Better value because of termination luck. Bad at small steps. |\n",
    "| BROYDN7D | 0.99939 | 0.99176 | 1.802 | 1 | 0.96248 | |\n",
    "| DENSCHNA | 1 | 1 | 1 | 1 | 1 | Randomly executes faster or slower than GENO |\n",
    "| QUARTC | 1 | 1.6042 | 10.074 | 1 | 1 | |\n",
    "| DEVGLA1 | 0.86667 | 0.6125 | 35.506 | 0.99957 | 0.33151 | |"
   ]
  },
  {
   "cell_type": "markdown",
   "metadata": {},
   "source": [
    "### Skipped problems and reasons\n",
    "\n",
    "| Problem | reason |\n",
    "| --- | --- |\n",
    "| CHWIRUT2LS | GENO stops with approx. error, while GP-GENO keeps going for a long time due to more samples beeing allowed |\n",
    "| SPIN2LS | GP-GENO is exceptionally bad when each step is very small |\n",
    "| LRCOVTYPE | Slow for both |\n",
    "| MGH10LS | GENO stops with approx. error, while GP-GENO keeps going for a long time |\n",
    "| TRIDIA | GP-GENO is exceptionally bad when each step is very small |\n",
    "| MODBEALE | GP-GENO is exceptionally bad when each step is very small |\n",
    "| BA-L16LS | Problem does not load at all |\n",
    "| GAUSS1LS | GENO stops with approx. error, while GP-GENO keeps going for a long time |\n",
    "| GAUSS3LS | GENO stops with approx. error, while GP-GENO keeps going for a long time |"
   ]
  },
  {
   "cell_type": "code",
   "execution_count": 4,
   "metadata": {},
   "outputs": [],
   "source": [
    "problemNames = pycutest.find_problems(constraints=\"unconstrained\")\n",
    "problems_to_solve = [16]  # At most 288\n",
    "problem_names_to_solve = np.array(problemNames)[problems_to_solve]\n",
    "problem_names_to_solve = [\"DEVGLA1\"]"
   ]
  },
  {
   "cell_type": "code",
   "execution_count": 5,
   "metadata": {},
   "outputs": [
    {
     "name": "stdout",
     "output_type": "stream",
     "text": [
      "solving DEVGLA1 with geno\n",
      "solving DEVGLA1 with gp_geno\n"
     ]
    },
    {
     "name": "stderr",
     "output_type": "stream",
     "text": [
      "/Users/robinlabryga/.pyenv/versions/3.12.2/lib/python3.12/site-packages/genosolver/genosolver.py:106: RuntimeWarning: Option 'max_sample_count' is not supported.\n",
      "  warnings.warn(f\"Option '{opt}' is not supported.\", RuntimeWarning)\n"
     ]
    },
    {
     "name": "stdout",
     "output_type": "stream",
     "text": [
      "Results for geno:\n",
      " Problem    Iteration  FunEvals   Time       Function Val    Proj Gradient  \n",
      " DEVGLA1    45         80         0.011309   2.12787e-13     6.52574e-06    \n",
      "Results for gp_geno:\n",
      " Problem    Iteration  FunEvals   Time       Function Val    Proj Gradient  \n",
      " DEVGLA1    39         49         0.40152    2.12695e-13     2.16333e-06    \n",
      "Comparison between gp_geno and geno\n",
      " Problem    Iteration       FunEvals        Time            Function Val    Proj Gradient  \n",
      " DEVGLA1    0.86667         0.6125          35.506          0.99957         0.33151        \n",
      "| DEVGLA1 | 0.86667 | 0.6125 | 35.506 | 0.99957 | 0.33151 | |\n"
     ]
    }
   ],
   "source": [
    "import bayesian_line_search.GPgenosolver as GPgenosolver\n",
    "from bayesian_line_search.line_search import LineSearchDebugOptions\n",
    "import genosolver\n",
    "\n",
    "genosolver.check_version(\"0.1.0\")\n",
    "\n",
    "reports = dict()\n",
    "\n",
    "for problemName in problem_names_to_solve:\n",
    "    reports[problemName] = dict()\n",
    "    problem = pycutest.import_problem(problemName)\n",
    "    print(f\"solving {problem.name} with geno\")\n",
    "    reports[problemName][\"geno\"] = solve(problem, np=np, minimize=genosolver.minimize)\n",
    "    reports[problemName][\"geno\"][\"report\"] = problem.report()\n",
    "    problem = pycutest.import_problem(problemName)\n",
    "    print(f\"solving {problem.name} with gp_geno\")\n",
    "    reports[problemName][\"gp_geno\"] = solve(\n",
    "        problem, np=np, minimize=GPgenosolver.minimize\n",
    "    )\n",
    "    reports[problemName][\"gp_geno\"][\"report\"] = problem.report()\n",
    "\n",
    "def print_solver_result(reports, solver):\n",
    "    print(f\"Results for {solver}:\")\n",
    "    print(f\" {\"Problem\":<10} {\"Iteration\":<10} {\"FunEvals\":<10} {\"Time\":<10} {\"Function Val\":<15} {\"Proj Gradient\":<15}\")\n",
    "    for problem, solver_reports in reports.items():\n",
    "        solver_report = solver_reports[solver]\n",
    "        result = solver_report[\"result\"]\n",
    "        pg = np.linalg.norm(- result.jac, np.inf)\n",
    "        print(f\" {problem:<10} {result.nit:<10} {result.nfev:<10} {solver_report[\"time\"]:<10.5g} {result.fun:<15.5e} {pg:<15.5e}\")\n",
    "\n",
    "def print_solver_comparison(reports, target, reference):\n",
    "    print(f\"Comparison between {target} and {reference}\")\n",
    "    print(f\" {\"Problem\":<10} {\"Iteration\":<15} {\"FunEvals\":<15} {\"Time\":<15} {\"Function Val\":<15} {\"Proj Gradient\":<15}\")\n",
    "    for problem, solver_reports in reports.items():\n",
    "        target_report = solver_reports[target]\n",
    "        reference_report = solver_reports[reference]\n",
    "        target_result = target_report[\"result\"]\n",
    "        reference_result = reference_report[\"result\"]\n",
    "        target_pg = np.linalg.norm(- target_result.jac, np.inf)\n",
    "        reference_pg = np.linalg.norm(- reference_result.jac, np.inf)\n",
    "        print(f\" {problem:<10} {target_result.nit/reference_result.nit:<15.5g} {target_result.nfev/reference_result.nfev:<15.5g} {target_report[\"time\"]/reference_report[\"time\"]:<15.5g} {target_result.fun/reference_result.fun:<15.5g} {target_pg/reference_pg:<15.5g}\")\n",
    "        # For md:\n",
    "        print(f\"| {problem} | {target_result.nit/reference_result.nit:.5g} | {target_result.nfev/reference_result.nfev:.5g} | {target_report[\"time\"]/reference_report[\"time\"]:.5g} | {target_result.fun/reference_result.fun:.5g} | {target_pg/reference_pg:.5g} | |\")\n",
    "\n",
    "print_solver_result(reports, \"geno\")\n",
    "print_solver_result(reports, \"gp_geno\")\n",
    "print_solver_comparison(reports, \"gp_geno\", \"geno\")"
   ]
  }
 ],
 "metadata": {
  "kernelspec": {
   "display_name": "Python 3",
   "language": "python",
   "name": "python3"
  },
  "language_info": {
   "codemirror_mode": {
    "name": "ipython",
    "version": 3
   },
   "file_extension": ".py",
   "mimetype": "text/x-python",
   "name": "python",
   "nbconvert_exporter": "python",
   "pygments_lexer": "ipython3",
   "version": "3.12.2"
  }
 },
 "nbformat": 4,
 "nbformat_minor": 2
}
