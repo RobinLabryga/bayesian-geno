{
 "cells": [
  {
   "cell_type": "markdown",
   "metadata": {},
   "source": [
    "# Custom GENO"
   ]
  },
  {
   "cell_type": "code",
   "execution_count": null,
   "metadata": {
    "tags": []
   },
   "outputs": [],
   "source": [
    "import os\n",
    "\n",
    "os.environ[\"ARCHDEFS\"] = f\"{os.path.abspath(os.getcwd())}/../CUTEst/ARCHDefs/\"\n",
    "os.environ[\"SIFDECODE\"] = f\"{os.path.abspath(os.getcwd())}/../CUTEst/SIFDecode/\"\n",
    "os.environ[\"MASTSIF\"] = f\"{os.path.abspath(os.getcwd())}/../CUTEst/sif/\"\n",
    "os.environ[\"CUTEST\"] = f\"{os.path.abspath(os.getcwd())}/../CUTEst/CUTEst/\"\n",
    "os.environ[\"MYARCH\"] = \"mac64.osx.gfo\"\n",
    "os.environ[\"PYCUTEST_CACHE\"] = (\n",
    "    f\"{os.path.abspath(os.getcwd())}/../pycutest_cache_holder/\"\n",
    ")\n",
    "\n",
    "import pycutest\n",
    "\n",
    "problemNames = pycutest.find_problems(constraints=\"unconstrained\")\n",
    "print(f\"There are {len(problemNames)} unconstrained problems\")\n",
    "\n",
    "for problemName in problemNames[:2]:\n",
    "    problem = pycutest.import_problem(problemName)\n",
    "    problem.x0\n",
    "    f, g = problem.obj(problem.x0, gradient=True)"
   ]
  },
  {
   "cell_type": "code",
   "execution_count": null,
   "metadata": {},
   "outputs": [],
   "source": [
    "from timeit import default_timer as timer\n",
    "import pycutest\n",
    "import numpy as np\n",
    "\n",
    "# import cupy as np  # uncomment this for GPU usage"
   ]
  },
  {
   "cell_type": "code",
   "execution_count": null,
   "metadata": {},
   "outputs": [],
   "source": [
    "def solve(\n",
    "    problem: pycutest.CUTEstProblem,\n",
    "    np,\n",
    "    minimize,\n",
    "    verbose: int = 10,\n",
    "    line_search_debug_options=None,\n",
    "):\n",
    "    start = timer()\n",
    "    options = {\n",
    "        \"eps_pg\": 1e-5,  # Gradient for early stop\n",
    "        \"max_iter\": 3000,\n",
    "        \"verbose\": verbose,  # Set it to 0 to fully mute it.\n",
    "        \"max_ls\": 30,\n",
    "        \"line_search_debug_options\": line_search_debug_options,\n",
    "        \"max_sample_count\": 30,\n",
    "    }\n",
    "\n",
    "    fandg = lambda x: problem.obj(x, gradient=True)\n",
    "    result = minimize(fandg, problem.x0, options=options, np=np)\n",
    "\n",
    "    # assemble solution and map back to original problem\n",
    "    x = result.x\n",
    "    elapsed = timer() - start\n",
    "    print(\"solving took %.3f sec\" % elapsed)\n",
    "    return result, x"
   ]
  },
  {
   "cell_type": "code",
   "execution_count": null,
   "metadata": {},
   "outputs": [],
   "source": [
    "# for i, problemName in enumerate(problemNames):\n",
    "#     print(f\"{problem.name}, {i}/{len(problemNames)-1}\")\n",
    "#     problem = pycutest.import_problem(problemName)\n",
    "#     problem.obj(problem.x0, gradient=True)"
   ]
  },
  {
   "cell_type": "code",
   "execution_count": null,
   "metadata": {},
   "outputs": [],
   "source": [
    "problems_to_solve = [123]  # At most 288 # To solve by index\n",
    "# problems_to_solve = None # To solve all\n",
    "problemNames = pycutest.find_problems(constraints=\"unconstrained\")\n",
    "problem_names_to_solve = np.array(problemNames)[problems_to_solve]\n",
    "# problem_names_to_solve = [\"DENSCHNA\"]  # To solve by name\n",
    "\n",
    "print(problem_names_to_solve)"
   ]
  },
  {
   "cell_type": "code",
   "execution_count": null,
   "metadata": {},
   "outputs": [],
   "source": [
    "import genosolver\n",
    "\n",
    "genosolver.check_version(\"0.1.0\")\n",
    "if problems_to_solve is not None:\n",
    "    for problemName in problem_names_to_solve:\n",
    "        print(f\"solving {problemName}\")\n",
    "        problem = pycutest.import_problem(problemName)\n",
    "        print(\"Starting\")\n",
    "        result, x = solve(problem, np=np, minimize=genosolver.minimize)\n",
    "        print(problem.report())"
   ]
  },
  {
   "cell_type": "code",
   "execution_count": null,
   "metadata": {},
   "outputs": [],
   "source": [
    "import bayesian_line_search.GPgenosolver as GPgenosolver\n",
    "from bayesian_line_search.line_search import LineSearchDebugOptions\n",
    "\n",
    "do_debug = True\n",
    "debug_options = LineSearchDebugOptions(\n",
    "    report_termination_reason=True,\n",
    "    report_return_value=do_debug,\n",
    "    report_insufficient_acquisition=do_debug,\n",
    "    report_invalid_f=do_debug,\n",
    "    report_acquisition_max=do_debug,\n",
    "    report_area_reduction=do_debug,\n",
    "    report_kernel_hyperparameter=do_debug,\n",
    "    gp_verbose=False,\n",
    "    plot_gp=do_debug,\n",
    ")\n",
    "\n",
    "problemNames = pycutest.find_problems(constraints=\"unconstrained\")\n",
    "if problems_to_solve is not None:\n",
    "    r = problem_names_to_solve\n",
    "else:\n",
    "    r = problemNames\n",
    "for problemName in r:\n",
    "    problem = pycutest.import_problem(problemName)\n",
    "    print(f\"solving {problem.name}\")\n",
    "    result, x = solve(\n",
    "        problem,\n",
    "        np=np,\n",
    "        minimize=GPgenosolver.minimize,\n",
    "        line_search_debug_options=debug_options,\n",
    "    )\n",
    "    print(problem.report())"
   ]
  }
 ],
 "metadata": {
  "kernelspec": {
   "display_name": "Python 3",
   "language": "python",
   "name": "python3"
  },
  "language_info": {
   "codemirror_mode": {
    "name": "ipython",
    "version": 3
   },
   "file_extension": ".py",
   "mimetype": "text/x-python",
   "name": "python",
   "nbconvert_exporter": "python",
   "pygments_lexer": "ipython3",
   "version": "3.12.2"
  }
 },
 "nbformat": 4,
 "nbformat_minor": 2
}
