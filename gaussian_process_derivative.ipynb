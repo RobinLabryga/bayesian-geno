{
 "cells": [
  {
   "cell_type": "markdown",
   "metadata": {},
   "source": [
    "# Derivative of Gaussian Process\n",
    "\n",
    "See \"Nonlinear Modelling and Control using Gaussian Processes\" by Andrew McHutchon from 2014: 2.7"
   ]
  },
  {
   "cell_type": "code",
   "execution_count": null,
   "metadata": {},
   "outputs": [],
   "source": [
    "import numpy as np\n",
    "import matplotlib.pyplot as plt\n",
    "import gaussian_process.GPfunctions as gp\n",
    "from gaussian_process import GaussianProcess\n",
    "from gaussian_process.kernels import SquaredExponentialKernel, CubicKernel"
   ]
  },
  {
   "cell_type": "code",
   "execution_count": null,
   "metadata": {},
   "outputs": [],
   "source": [
    "# Objective function\n",
    "\n",
    "objectiveFunction = lambda x: -x * np.sin(x)\n",
    "objectiveFunctionDerivative = lambda x: -x * np.cos(x) - np.sin(x)\n",
    "\n",
    "X = np.linspace(start=-3.0, stop=3.0, num=1_000)\n",
    "y = objectiveFunction(X)\n",
    "g = objectiveFunctionDerivative(X)\n",
    "\n",
    "rng = np.random.default_rng(1)\n",
    "training_indices = rng.choice(np.arange(y.size), size=6, replace=False)\n",
    "# training_indices = [10, -10]\n",
    "X_train, y_train, g_train = (\n",
    "    X[training_indices],\n",
    "    y[training_indices],\n",
    "    g[training_indices],\n",
    ")"
   ]
  },
  {
   "cell_type": "code",
   "execution_count": null,
   "metadata": {},
   "outputs": [],
   "source": [
    "kernel = SquaredExponentialKernel()\n",
    "\n",
    "GP_posterior = GaussianProcess(kernel=kernel, x_known=X_train, f_known=y_train)"
   ]
  },
  {
   "cell_type": "code",
   "execution_count": null,
   "metadata": {},
   "outputs": [],
   "source": [
    "# Calculate derivative of mean\n",
    "mean, variance = GP_posterior(X)\n",
    "mean_derivative, mean_derivative_variance = GP_posterior.derivative(X)\n",
    "\n",
    "fig, (ax1) = plt.subplots(1, 1)\n",
    "gp.plot_objective(ax1, X, y, X_train, y_train)\n",
    "gp.plot_gp(ax1, X, mean, variance)\n",
    "gp.plot_gp(\n",
    "    ax1,\n",
    "    X,\n",
    "    mean_derivative,\n",
    "    mean_derivative_variance,\n",
    "    label=\"mean derivative\",\n",
    "    stdFactor=0.5,\n",
    ")\n",
    "gp.plot_label(ax1, f\"{type(kernel).__name__} with mean derivative\")\n",
    "plt.show()"
   ]
  },
  {
   "cell_type": "markdown",
   "metadata": {},
   "source": [
    "### Derivative of variance"
   ]
  },
  {
   "cell_type": "code",
   "execution_count": null,
   "metadata": {},
   "outputs": [],
   "source": [
    "variance = GP_posterior.variance(X)\n",
    "variance_derivative = GP_posterior.derivative_variance(X)\n",
    "\n",
    "fig, (ax1) = plt.subplots(1, 1)\n",
    "ax1.plot(X, variance, label=\"Variance\")\n",
    "ax1.plot(X, variance_derivative, label=\"Derivative\")\n",
    "gp.plot_label(ax1, \"Derivative of Variance\")\n",
    "plt.show()"
   ]
  },
  {
   "cell_type": "markdown",
   "metadata": {},
   "source": [
    "### Derivative of std"
   ]
  },
  {
   "cell_type": "code",
   "execution_count": null,
   "metadata": {},
   "outputs": [],
   "source": [
    "std = GP_posterior.std_deviation(X)\n",
    "\n",
    "std_derivative = GP_posterior.std_deviation_derivative(X)\n",
    "\n",
    "fig, (ax1) = plt.subplots(1, 1)\n",
    "ax1.plot(X, std, label=\"Uncertainty\")\n",
    "ax1.plot(X, std_derivative, label=\"Derivative\")\n",
    "gp.plot_label(ax1, \"Derivative of std\")\n",
    "plt.show()"
   ]
  },
  {
   "cell_type": "markdown",
   "metadata": {},
   "source": [
    "### Acquisition derivative"
   ]
  },
  {
   "cell_type": "code",
   "execution_count": null,
   "metadata": {},
   "outputs": [],
   "source": [
    "# LCB/UCB derivative\n",
    "mean, variance = GP_posterior(X)\n",
    "mean_derivative = GP_posterior.derivative_mean(X)\n",
    "variance_derivative = GP_posterior.derivative_variance(X)\n",
    "\n",
    "lcbFactor = 2\n",
    "acquisition = mean + lcbFactor * variance\n",
    "acquisition_derivative = mean_derivative + lcbFactor * variance_derivative\n",
    "\n",
    "fig, (ax1, ax2, ax3) = plt.subplots(1, 3, sharey=True)\n",
    "ax1.plot(X, mean, label=\"Mean\")\n",
    "ax1.plot(X, mean_derivative, label=\"Derivative\")\n",
    "gp.plot_label(ax1, \"Mean function derivative\")\n",
    "ax2.plot(X, variance, label=\"Variance\")\n",
    "ax2.plot(X, variance_derivative, label=\"Derivative\")\n",
    "gp.plot_label(ax2, \"Variance function derivative\")\n",
    "ax3.plot(X, acquisition, label=\"Acquisition\")\n",
    "ax3.plot(X, acquisition_derivative, label=\"Derivative\")\n",
    "gp.plot_label(ax3, \"Acquisition function derivative\")\n",
    "fig.set_figwidth(15)\n",
    "plt.show()"
   ]
  },
  {
   "cell_type": "markdown",
   "metadata": {},
   "source": [
    "## With gradient information"
   ]
  },
  {
   "cell_type": "code",
   "execution_count": null,
   "metadata": {},
   "outputs": [],
   "source": [
    "GP_posterior = GaussianProcess(\n",
    "    kernel=kernel, x_known=X_train, f_known=y_train, g_known=g_train\n",
    ")"
   ]
  },
  {
   "cell_type": "code",
   "execution_count": null,
   "metadata": {},
   "outputs": [],
   "source": [
    "# Calculate derivative of mean\n",
    "mean, variance = GP_posterior(X)\n",
    "mean_derivative, mean_derivative_variance = GP_posterior.derivative(X)\n",
    "\n",
    "fig, (ax1) = plt.subplots(1, 1)\n",
    "gp.plot_objective(ax1, X, y, X_train, y_train)\n",
    "gp.plot_gp(ax1, X, mean, variance)\n",
    "gp.plot_gp(\n",
    "    ax1,\n",
    "    X,\n",
    "    mean_derivative,\n",
    "    mean_derivative_variance,\n",
    "    label=\"mean derivative\",\n",
    "    stdFactor=0.5,\n",
    ")\n",
    "gp.plot_label(ax1, f\"{type(kernel).__name__} with mean derivative\")\n",
    "plt.show()"
   ]
  },
  {
   "cell_type": "markdown",
   "metadata": {},
   "source": [
    "### Derivative of variance"
   ]
  },
  {
   "cell_type": "code",
   "execution_count": null,
   "metadata": {},
   "outputs": [],
   "source": [
    "variance_derivative = GP_posterior.derivative_variance(X)\n",
    "\n",
    "fig, (ax1) = plt.subplots(1, 1)\n",
    "ax1.plot(X, variance, label=\"Variance\")\n",
    "ax1.plot(X, variance_derivative, label=\"Derivative\")\n",
    "gp.plot_label(ax1, \"Derivative of Variance\")\n",
    "plt.show()"
   ]
  },
  {
   "cell_type": "markdown",
   "metadata": {},
   "source": [
    "### Derivative of std"
   ]
  },
  {
   "cell_type": "code",
   "execution_count": null,
   "metadata": {},
   "outputs": [],
   "source": [
    "std = GP_posterior.std_deviation(X)\n",
    "\n",
    "std_derivative = GP_posterior.std_deviation_derivative(X)\n",
    "\n",
    "fig, (ax1) = plt.subplots(1, 1)\n",
    "ax1.plot(X, std, label=\"Uncertainty\")\n",
    "ax1.plot(X, std_derivative, label=\"Derivative\")\n",
    "gp.plot_label(ax1, \"Derivative of std\")\n",
    "plt.show()"
   ]
  },
  {
   "cell_type": "markdown",
   "metadata": {},
   "source": [
    "### Acquisition function derivative"
   ]
  },
  {
   "cell_type": "code",
   "execution_count": null,
   "metadata": {},
   "outputs": [],
   "source": [
    "# LCB/UCB derivative\n",
    "mean, variance = GP_posterior(X)\n",
    "mean_derivative = GP_posterior.derivative_mean(X)\n",
    "variance_derivative = GP_posterior.derivative_variance(X)\n",
    "\n",
    "lcbFactor = 2\n",
    "acquisitionValues = mean + lcbFactor * variance\n",
    "acquisitionDerivativeValues = mean_derivative + lcbFactor * variance_derivative\n",
    "\n",
    "fig, (ax1, ax2, ax3) = plt.subplots(1, 3, sharey=True)\n",
    "ax1.plot(X, mean, label=\"Mean\")\n",
    "ax1.plot(X, mean_derivative, label=\"Derivative\")\n",
    "gp.plot_label(ax1, \"Mean function derivative\")\n",
    "ax2.plot(X, variance, label=\"Variance\")\n",
    "ax2.plot(X, variance_derivative, label=\"Derivative\")\n",
    "gp.plot_label(ax2, \"Variance function derivative\")\n",
    "ax3.plot(X, acquisitionValues, label=\"Acquisition\")\n",
    "ax3.plot(X, acquisitionDerivativeValues, label=\"Derivative\")\n",
    "gp.plot_label(ax3, \"Acquisition function derivative\")\n",
    "fig.set_figwidth(15)\n",
    "plt.show()"
   ]
  }
 ],
 "metadata": {
  "kernelspec": {
   "display_name": ".venv",
   "language": "python",
   "name": "python3"
  },
  "language_info": {
   "codemirror_mode": {
    "name": "ipython",
    "version": 3
   },
   "file_extension": ".py",
   "mimetype": "text/x-python",
   "name": "python",
   "nbconvert_exporter": "python",
   "pygments_lexer": "ipython3",
   "version": "3.12.2"
  }
 },
 "nbformat": 4,
 "nbformat_minor": 2
}
