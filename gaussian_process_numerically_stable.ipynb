{
 "cells": [
  {
   "cell_type": "markdown",
   "metadata": {},
   "source": [
    "## Regression numerically stable"
   ]
  },
  {
   "cell_type": "code",
   "execution_count": null,
   "metadata": {},
   "outputs": [],
   "source": [
    "# TODO: See if this entire notebook can be combined with gaussian_process-ipynb\n",
    "\n",
    "import numpy as np\n",
    "import matplotlib.pyplot as plt\n",
    "import gaussian_process.GPfunctions as gp\n",
    "from gaussian_process import GaussianProcess\n",
    "from gaussian_process.kernels import SquaredExponentialKernel"
   ]
  },
  {
   "cell_type": "code",
   "execution_count": null,
   "metadata": {},
   "outputs": [],
   "source": [
    "# Objective function\n",
    "\n",
    "objectiveFunction = lambda x: -x * np.sin(x)\n",
    "objectiveFunctionDerivative = lambda x: -x * np.cos(x) - np.sin(x)\n",
    "\n",
    "X = np.linspace(start=-3.0, stop=3.0, num=1_000)\n",
    "y = objectiveFunction(X)\n",
    "g = objectiveFunctionDerivative(X)\n",
    "\n",
    "rng = np.random.default_rng(1)\n",
    "training_indices = rng.choice(np.arange(y.size), size=6, replace=False)\n",
    "X_train, y_train, g_train = (\n",
    "    X[training_indices],\n",
    "    y[training_indices],\n",
    "    g[training_indices],\n",
    ")"
   ]
  },
  {
   "cell_type": "code",
   "execution_count": null,
   "metadata": {},
   "outputs": [],
   "source": [
    "kernel = SquaredExponentialKernel()\n",
    "\n",
    "GP_posterior = GaussianProcess(kernel, x_known=X_train, f_known=y_train)\n",
    "\n",
    "mean, variance = GP_posterior(X)\n",
    "\n",
    "fig, (ax1) = plt.subplots(1, 1)\n",
    "\n",
    "gp.plot_objective(ax1, X, y, X_train, y_train)\n",
    "gp.plot_gp(ax1, X, mean, variance)\n",
    "gp.plot_label(ax1, \"Posterior\")\n",
    "\n",
    "fig.suptitle(\"Squared exponential kernel without gradient info\")\n",
    "plt.show()\n",
    "\n",
    "GP_posterior = GaussianProcess(\n",
    "    kernel=kernel, x_known=X_train, f_known=y_train, g_known=g_train\n",
    ")\n",
    "\n",
    "mean, variance = GP_posterior(X)\n",
    "\n",
    "fig, (ax1) = plt.subplots(1, 1, sharey=True)\n",
    "\n",
    "gp.plot_objective(ax1, X, y, X_train, y_train)\n",
    "gp.plot_gp(ax1, X, mean, variance)\n",
    "gp.plot_label(ax1, \"Posterior\")\n",
    "\n",
    "fig.suptitle(\"Squared exponential kernel with gradient info\")\n",
    "plt.show()"
   ]
  },
  {
   "cell_type": "markdown",
   "metadata": {},
   "source": [
    "## GP derivative"
   ]
  },
  {
   "cell_type": "code",
   "execution_count": null,
   "metadata": {},
   "outputs": [],
   "source": [
    "kernel = SquaredExponentialKernel()\n",
    "\n",
    "GP_posterior = GaussianProcess(kernel, X_train, y_train)\n",
    "\n",
    "mean, variance = GP_posterior.evaluate(X)\n",
    "\n",
    "mean_derivative, mean_derivative_variance = GP_posterior.derivative(X)\n",
    "\n",
    "fig, (ax1) = plt.subplots(1, 1, sharey=True)\n",
    "\n",
    "gp.plot_objective(ax1, X, y, X_train, y_train)\n",
    "gp.plot_gp(ax1, X, mean, variance)\n",
    "gp.plot_gp(ax1, X, mean_derivative, mean_derivative_variance)\n",
    "gp.plot_label(ax1, \"Posterior derivative\")\n",
    "\n",
    "fig.suptitle(\"Squared exponential kernel without gradient info\")\n",
    "plt.show()\n",
    "\n",
    "GP_posterior = GaussianProcess(kernel, X_train, y_train, g_train)\n",
    "\n",
    "mean, variance = GP_posterior.evaluate(X)\n",
    "\n",
    "mean_derivative, mean_derivative_variance = GP_posterior.derivative(X)\n",
    "\n",
    "fig, (ax1) = plt.subplots(1, 1, sharey=True)\n",
    "\n",
    "gp.plot_objective(ax1, X, y, X_train, y_train)\n",
    "gp.plot_gp(ax1, X, mean, variance)\n",
    "gp.plot_gp(ax1, X, mean_derivative, mean_derivative_variance)\n",
    "gp.plot_label(ax1, \"Posterior derivative\")\n",
    "\n",
    "fig.suptitle(\"Squared exponential kernel with gradient info\")\n",
    "plt.show()"
   ]
  },
  {
   "cell_type": "markdown",
   "metadata": {},
   "source": [
    "## Derivative of variance"
   ]
  },
  {
   "cell_type": "code",
   "execution_count": null,
   "metadata": {},
   "outputs": [],
   "source": [
    "kernel = SquaredExponentialKernel()\n",
    "\n",
    "GP_posterior = GaussianProcess(kernel, X_train, y_train)\n",
    "\n",
    "variance = GP_posterior.variance(X)\n",
    "variance_derivative = GP_posterior.derivative_variance(X)\n",
    "\n",
    "fig, (ax1) = plt.subplots(1, 1, sharey=True)\n",
    "\n",
    "ax1.plot(X, variance, label=\"Uncertainty\")\n",
    "ax1.plot(X, variance_derivative, label=\"Uncertainty derivative\")\n",
    "gp.plot_label(ax1, \"Derivative of uncertainty\")\n",
    "\n",
    "fig.suptitle(\"Squared exponential kernel without gradient info\")\n",
    "plt.show()\n",
    "\n",
    "GP_posterior = GaussianProcess(kernel, X_train, y_train, g_train)\n",
    "\n",
    "variance = GP_posterior.variance(X)\n",
    "variance_derivative = GP_posterior.derivative_variance(X)\n",
    "\n",
    "fig, (ax1) = plt.subplots(1, 1, sharey=True)\n",
    "\n",
    "ax1.plot(X, variance, label=\"Uncertainty\")\n",
    "ax1.plot(X, variance_derivative, label=\"Uncertainty derivative\")\n",
    "gp.plot_label(ax1, \"Derivative of uncertainty\")\n",
    "\n",
    "fig.suptitle(\"Squared exponential kernel with gradient info\")\n",
    "plt.show()"
   ]
  }
 ],
 "metadata": {
  "kernelspec": {
   "display_name": "Python 3",
   "language": "python",
   "name": "python3"
  },
  "language_info": {
   "codemirror_mode": {
    "name": "ipython",
    "version": 3
   },
   "file_extension": ".py",
   "mimetype": "text/x-python",
   "name": "python",
   "nbconvert_exporter": "python",
   "pygments_lexer": "ipython3",
   "version": "3.12.2"
  }
 },
 "nbformat": 4,
 "nbformat_minor": 2
}
