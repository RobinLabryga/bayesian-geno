{
 "cells": [
  {
   "cell_type": "markdown",
   "metadata": {},
   "source": [
    "# Wrong gradient"
   ]
  },
  {
   "cell_type": "markdown",
   "metadata": {},
   "source": [
    "From OSCIGRAD\n",
    "When the function values and gradient contain values that are far apart, the GP will have large errors in the prediction.\n",
    "Best thing to do seems to be to alter kernel hyperparameter. Most accurate kernel does not align with the one with max log marginal likelihood\n",
    "Linear scaling does not help, since distance remains in same order and thus error decreases only in the absolute but not relative."
   ]
  },
  {
   "cell_type": "code",
   "execution_count": null,
   "metadata": {},
   "outputs": [],
   "source": [
    "import numpy as np\n",
    "import matplotlib.pyplot as plt\n",
    "import gaussian_process.GPfunctions as gp\n",
    "from gaussian_process import GaussianProcess\n",
    "from gaussian_process.kernels import SquaredExponentialKernel, CubicKernel\n",
    "import os"
   ]
  },
  {
   "cell_type": "code",
   "execution_count": null,
   "metadata": {},
   "outputs": [],
   "source": [
    "X = np.linspace(start=0.0, stop=1.0, num=1_000)"
   ]
  },
  {
   "cell_type": "code",
   "execution_count": null,
   "metadata": {},
   "outputs": [],
   "source": [
    "X_train = [\n",
    "    0.00000000e00,\n",
    "    1.00000000e00,\n",
    "    2.01370962e-01,\n",
    "    2.85678888e-10,\n",
    "    3.12057312e-09,\n",
    "    3.12057212e-09,\n",
    "]\n",
    "f_train = [\n",
    "    4.88153517e-12,\n",
    "    1.41555445e08,\n",
    "    5.60060592e06,\n",
    "    9.24588434e-12,\n",
    "    1.28168841e-09,\n",
    "    1.28168757e-09,\n",
    "]\n",
    "g_train = [\n",
    "    -2.44151587e-02,\n",
    "    2.93727546e08,\n",
    "    5.55308816e07,\n",
    "    5.49693870e-02,\n",
    "    8.42730769e-01,\n",
    "    8.42730492e-01,\n",
    "]\n",
    "f_noise = 1e-10\n",
    "g_noise = 1e-10\n",
    "\n",
    "# Scaling\n",
    "# factor = 1e-8\n",
    "# f_train = [factor * f for f in f_train]\n",
    "# g_train = [factor * g for g in g_train]\n",
    "\n",
    "kernel = SquaredExponentialKernel(1.0 / (len(X_train) - 1))  # Average distance\n",
    "# kernel = SquaredExponentialKernel(min([np.abs(a-b) for a,b in itertools.pairwise(sorted(X_train))])) # Min distance\n",
    "# kernel = SquaredExponentialKernel(1e-5) # Max log-marginal-likelihood\n",
    "\n",
    "GP_posterior = GaussianProcess(\n",
    "    kernel,\n",
    "    x_known=X_train,\n",
    "    f_known=f_train,\n",
    "    g_known=g_train,\n",
    "    f_noise=f_noise,\n",
    "    g_noise=g_noise,\n",
    ")\n",
    "\n",
    "posterior_mean, posterior_variance = GP_posterior(X)\n",
    "posterior_std = GP_posterior.std_deviation(X, variance=posterior_variance)\n",
    "posterior_mean_derivative, posterior_mean_derivative_variance = GP_posterior.derivative(\n",
    "    X\n",
    ")\n",
    "\n",
    "fig, (ax1) = plt.subplots(1, 1, sharey=True)\n",
    "\n",
    "ax1.scatter(X_train, f_train, label=\"Observations\")\n",
    "gp.plot_gp(ax1, X, posterior_mean, posterior_std)\n",
    "gp.plot_label(ax1, \"Gaussian Process\")\n",
    "\n",
    "fig.suptitle(\"Squared exponential kernel sampled\")\n",
    "fig.set_figwidth(15)\n",
    "plt.show()\n",
    "\n",
    "print(\"For gp with squared exponential kernel and gradient info we have:\")\n",
    "for x, f, g in zip(X_train, f_train, g_train):\n",
    "    m, v = GP_posterior(x)\n",
    "    md, mdv = GP_posterior.derivative(x)\n",
    "    print(\n",
    "        f\"x={x}:\",\n",
    "        f\"  abs(f(x)-gp(x))={np.abs(f-m)} with f(x)={f} and gp(x)={m}\",\n",
    "        f\"  abs(g(x)-g_gp(x))={np.abs(g-md)} with g(x)={g} and g_gp(x)={md}\",\n",
    "        sep=os.linesep,\n",
    "    )\n",
    "print(f\"With total f-error of {GP_posterior.f_error()}\")\n",
    "print(f\"With total g-error of {GP_posterior.g_error()}\")"
   ]
  }
 ],
 "metadata": {
  "kernelspec": {
   "display_name": "Python 3",
   "language": "python",
   "name": "python3"
  },
  "language_info": {
   "codemirror_mode": {
    "name": "ipython",
    "version": 3
   },
   "file_extension": ".py",
   "mimetype": "text/x-python",
   "name": "python",
   "nbconvert_exporter": "python",
   "pygments_lexer": "ipython3",
   "version": "3.12.2"
  }
 },
 "nbformat": 4,
 "nbformat_minor": 2
}
