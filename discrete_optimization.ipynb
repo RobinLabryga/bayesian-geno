{
 "cells": [
  {
   "cell_type": "markdown",
   "metadata": {},
   "source": [
    "# Discrete Optimization"
   ]
  },
  {
   "cell_type": "code",
   "execution_count": null,
   "metadata": {},
   "outputs": [],
   "source": [
    "import numpy as np\n",
    "import matplotlib.pyplot as plt\n",
    "import gaussian_process.GPfunctions as gp\n",
    "from gaussian_process import GaussianProcess\n",
    "from gaussian_process.kernels import SquaredExponentialKernel\n",
    "from acquisition import GP_UCB, GP_LCB"
   ]
  },
  {
   "cell_type": "code",
   "execution_count": null,
   "metadata": {},
   "outputs": [],
   "source": [
    "# Objective function\n",
    "\n",
    "objectiveFunction = lambda x: -x * np.sin(x)\n",
    "objectiveFunctionDerivative = lambda x: -x * np.cos(x) - np.sin(x)\n",
    "\n",
    "X = np.linspace(start=-3.0, stop=3.0, num=1_000)\n",
    "y = np.squeeze(objectiveFunction(X))"
   ]
  },
  {
   "cell_type": "markdown",
   "metadata": {},
   "source": [
    "## Maximization"
   ]
  },
  {
   "cell_type": "code",
   "execution_count": null,
   "metadata": {},
   "outputs": [],
   "source": [
    "X_sample = np.array([0.0, 1.0])\n",
    "y_sample = objectiveFunction(X_sample)\n",
    "\n",
    "x_best = X_sample[np.argmax(y_sample)]\n",
    "y_best = np.max(y_sample)\n",
    "\n",
    "for t in range(30):\n",
    "    kernel = SquaredExponentialKernel(l=np.abs(X[0] - X[-1]) / (len(X_sample - 1)))\n",
    "    GP_posterior = GaussianProcess(kernel=kernel, x_known=X_sample, f_known=y_sample)\n",
    "    mean, variance = GP_posterior(X)\n",
    "\n",
    "    fig, (ax1) = plt.subplots(1, 1, sharey=True)\n",
    "    gp.plot_objective(ax1, X, y, X_sample, y_sample)\n",
    "    gp.plot_gp(ax1, X, mean, variance)\n",
    "\n",
    "    acquisitionFunction = GP_UCB(GP_posterior, t, X[0].ndim)\n",
    "    acquisitionValues = np.array([acquisitionFunction(x) for x in X])\n",
    "\n",
    "    maxAquisition = np.nanargmax(acquisitionValues)\n",
    "\n",
    "    ax1.plot(X, acquisitionValues, label=\"Acquisition\")\n",
    "\n",
    "    gp.plot_label(ax1, f\"{len(X_sample)} data points\")\n",
    "    plt.show()\n",
    "\n",
    "    x_new = X[maxAquisition]\n",
    "    y_new = objectiveFunction(x_new)\n",
    "    if x_new in X_sample:\n",
    "        break\n",
    "    X_sample = np.append(X_sample, x_new)\n",
    "    y_sample = np.append(y_sample, y_new)\n",
    "    if y_new > y_best:\n",
    "        x_best, y_best = x_new, y_new\n",
    "    print(f\"best: x={x_best}, y={y_best}\")\n",
    "\n",
    "print(f\"best: ({x_best},{y_best})\")"
   ]
  },
  {
   "cell_type": "markdown",
   "metadata": {},
   "source": [
    "## Minimization"
   ]
  },
  {
   "cell_type": "code",
   "execution_count": null,
   "metadata": {},
   "outputs": [],
   "source": [
    "X_sample = np.array([0.0, 1.0])\n",
    "y_sample = objectiveFunction(X_sample)\n",
    "\n",
    "x_best = X_sample[np.argmin(y_sample)]\n",
    "y_best = np.min(y_sample)\n",
    "\n",
    "for t in range(30):\n",
    "    kernel = SquaredExponentialKernel(l=np.abs(X[0] - X[-1]) / (len(X_sample) - 1))\n",
    "    GP_posterior = GaussianProcess(kernel=kernel, x_known=X_sample, f_known=y_sample)\n",
    "    mean, variance = GP_posterior(X)\n",
    "\n",
    "    fig, (ax1) = plt.subplots(1, 1, sharey=True)\n",
    "    gp.plot_objective(ax1, X, y, X_sample, y_sample)\n",
    "    gp.plot_gp(ax1, X, mean, variance)\n",
    "\n",
    "    acquisitionFunction = GP_LCB(GP_posterior, t, X[0].ndim)\n",
    "    acquisitionValues = np.array([acquisitionFunction(x) for x in X])\n",
    "\n",
    "    maxAquisition = np.nanargmax(acquisitionValues)\n",
    "\n",
    "    ax1.plot(X, acquisitionValues, label=\"Acquisition\")\n",
    "\n",
    "    gp.plot_label(ax1, f\"{len(X_sample)} data points\")\n",
    "    plt.show()\n",
    "\n",
    "    x_new = X[maxAquisition]\n",
    "    y_new = objectiveFunction(x_new)\n",
    "    if x_new in X_sample:\n",
    "        print(\"Terminating due to insufficient acquisition function\")\n",
    "        break\n",
    "    X_sample = np.append(X_sample, x_new)\n",
    "    y_sample = np.append(y_sample, y_new)\n",
    "    if y_new < y_best:\n",
    "        x_best, y_best = x_new, y_new\n",
    "    print(f\"best: x={x_best}, y={y_best}\")\n",
    "\n",
    "print(f\"best: ({x_best},{y_best})\")"
   ]
  },
  {
   "cell_type": "markdown",
   "metadata": {},
   "source": [
    "## Minimization with gradient"
   ]
  },
  {
   "cell_type": "code",
   "execution_count": null,
   "metadata": {},
   "outputs": [],
   "source": [
    "X_sample = np.array([0.0, 1.0])\n",
    "y_sample = objectiveFunction(X_sample)\n",
    "g_sample = objectiveFunctionDerivative(X_sample)\n",
    "\n",
    "x_best = X_sample[np.argmin(y_sample)]\n",
    "y_best = np.min(y_sample)\n",
    "\n",
    "for t in range(100):\n",
    "    kernel = SquaredExponentialKernel(\n",
    "        np.abs(X[0] - X[-1]) / (2.0 * (len(X_sample) - 1))\n",
    "    )\n",
    "    GP_posterior = GaussianProcess(\n",
    "        kernel=kernel, x_known=X_sample, f_known=y_sample, g_known=g_sample\n",
    "    )\n",
    "    mean, variance = GP_posterior(X)\n",
    "\n",
    "    fig, (ax1) = plt.subplots(1, 1, sharey=True)\n",
    "    gp.plot_objective(ax1, X, y, X_sample, y_sample)\n",
    "    gp.plot_gp(ax1, X, mean, variance)\n",
    "\n",
    "    acquisitionFunction = GP_LCB(GP_posterior, t, X[0].ndim)\n",
    "    acquisitionValues = np.array([acquisitionFunction(x) for x in X])\n",
    "\n",
    "    maxAquisition = np.nanargmax(acquisitionValues)\n",
    "\n",
    "    ax1.plot(X, acquisitionValues, label=\"Acquisition\")\n",
    "\n",
    "    gp.plot_label(ax1, f\"{len(X_sample)} data points\")\n",
    "    plt.show()\n",
    "\n",
    "    x_new = X[maxAquisition]\n",
    "    y_new = objectiveFunction(x_new)\n",
    "    g_new = objectiveFunctionDerivative(x_new)\n",
    "    if x_new in X_sample:\n",
    "        print(\"Terminating due to insufficient acquisition function\")\n",
    "        break\n",
    "    X_sample = np.append(X_sample, x_new)\n",
    "    y_sample = np.append(y_sample, y_new)\n",
    "    g_sample = np.append(g_sample, g_new)\n",
    "\n",
    "    if y_new < y_best:\n",
    "        x_best, y_best = x_new, y_new\n",
    "    print(f\"best: x={x_best}, y={y_best}\")\n",
    "\n",
    "print(f\"best: ({x_best},{y_best})\")"
   ]
  }
 ],
 "metadata": {
  "kernelspec": {
   "display_name": "Python 3",
   "language": "python",
   "name": "python3"
  },
  "language_info": {
   "codemirror_mode": {
    "name": "ipython",
    "version": 3
   },
   "file_extension": ".py",
   "mimetype": "text/x-python",
   "name": "python",
   "nbconvert_exporter": "python",
   "pygments_lexer": "ipython3",
   "version": "3.12.2"
  }
 },
 "nbformat": 4,
 "nbformat_minor": 2
}
