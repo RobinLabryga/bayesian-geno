{
 "cells": [
  {
   "cell_type": "markdown",
   "metadata": {},
   "source": [
    "# Log marginal likelihood"
   ]
  },
  {
   "cell_type": "code",
   "execution_count": null,
   "metadata": {},
   "outputs": [],
   "source": [
    "import numpy as np\n",
    "import matplotlib.pyplot as plt\n",
    "import gaussian_process.GPfunctions as gp\n",
    "from gaussian_process import GaussianProcess, GPPrediction\n",
    "from gaussian_process.kernels import SquaredExponentialKernel\n",
    "import itertools"
   ]
  },
  {
   "cell_type": "code",
   "execution_count": null,
   "metadata": {},
   "outputs": [],
   "source": [
    "# Objective function\n",
    "\n",
    "objectiveFunction = lambda x: -x * np.sin(x)\n",
    "objectiveFunctionDerivative = lambda x: -x * np.cos(x) - np.sin(x)\n",
    "\n",
    "X = np.linspace(start=-3.0, stop=3.0, num=1_000)\n",
    "y = objectiveFunction(X)\n",
    "g = objectiveFunctionDerivative(X)\n",
    "\n",
    "rng = np.random.default_rng(1)\n",
    "training_indices = rng.choice(np.arange(y.size), size=40, replace=False)\n",
    "X_train, y_train, g_train = (\n",
    "    X[training_indices],\n",
    "    y[training_indices],\n",
    "    g[training_indices],\n",
    ")\n",
    "\n",
    "noise = 0.0"
   ]
  },
  {
   "cell_type": "code",
   "execution_count": null,
   "metadata": {},
   "outputs": [],
   "source": [
    "def plot_gp(processes: list[GaussianProcess], label):\n",
    "    fig, (ax1) = plt.subplots(1, 1)\n",
    "    gp.plot_objective(ax1, X, y, X_train, y_train)\n",
    "\n",
    "    for process in processes:\n",
    "        pred = GPPrediction(X, process)\n",
    "        gp.plot_gp(\n",
    "            ax1,\n",
    "            X,\n",
    "            pred.mean,\n",
    "            pred.std_deviation,\n",
    "            label=f\"l={process.kernel.l}\",\n",
    "        )\n",
    "\n",
    "    gp.plot_label(ax1, label)\n",
    "    plt.show()"
   ]
  },
  {
   "cell_type": "code",
   "execution_count": null,
   "metadata": {},
   "outputs": [],
   "source": [
    "def catch(func, handle=lambda e: e, *args, **kwargs):\n",
    "    try:\n",
    "        return func(*args, **kwargs)\n",
    "    except Exception as e:\n",
    "        return handle(e)"
   ]
  },
  {
   "cell_type": "code",
   "execution_count": null,
   "metadata": {},
   "outputs": [],
   "source": [
    "ls = [0.1, 0.5, 1.0, 1.5]\n",
    "\n",
    "processes = list(\n",
    "    filter(\n",
    "        lambda x: x is not None,\n",
    "        [\n",
    "            catch(\n",
    "                GaussianProcess,\n",
    "                lambda e: None,\n",
    "                kernel=SquaredExponentialKernel(l=l),\n",
    "                x_known=X_train,\n",
    "                f_known=y_train,\n",
    "                f_noise=noise,\n",
    "                g_noise=noise,\n",
    "            )\n",
    "            for l in ls\n",
    "        ],\n",
    "    )\n",
    ")\n",
    "\n",
    "plot_gp(processes, SquaredExponentialKernel.__name__)\n",
    "for process in processes:\n",
    "    try:\n",
    "        print(\n",
    "            f\"Log marginal likelihood of {process.kernel.__class__.__name__} with l={process.kernel.l} without gradient info is {process.log_marginal_likelihood_stable()}\"\n",
    "        )\n",
    "    except Exception:\n",
    "        pass\n",
    "\n",
    "processes = list(\n",
    "    filter(\n",
    "        lambda x: x is not None,\n",
    "        [\n",
    "            catch(\n",
    "                GaussianProcess,\n",
    "                lambda e: None,\n",
    "                kernel=SquaredExponentialKernel(l=l),\n",
    "                x_known=X_train,\n",
    "                f_known=y_train,\n",
    "                g_known=g_train,\n",
    "                f_noise=noise,\n",
    "                g_noise=noise,\n",
    "            )\n",
    "            for l in ls\n",
    "        ],\n",
    "    )\n",
    ")\n",
    "\n",
    "plot_gp(processes, SquaredExponentialKernel.__name__)\n",
    "for process in processes:\n",
    "    try:\n",
    "        print(\n",
    "            f\"Log marginal likelihood of {process.kernel.__class__.__name__} with l={process.kernel.l} with gradient info is {process.log_marginal_likelihood()}\"\n",
    "        )\n",
    "    except Exception:\n",
    "        pass"
   ]
  },
  {
   "cell_type": "markdown",
   "metadata": {},
   "source": [
    "## Plot of log marginal likelihood"
   ]
  },
  {
   "cell_type": "code",
   "execution_count": null,
   "metadata": {},
   "outputs": [],
   "source": [
    "def get_likelihood(l):\n",
    "    try:\n",
    "        process = GaussianProcess(\n",
    "            SquaredExponentialKernel(l=l), X_train, y_train, g_train, noise, noise\n",
    "        )\n",
    "        return process.log_marginal_likelihood()\n",
    "    except Exception:\n",
    "        return -np.inf\n",
    "\n",
    "\n",
    "ls = np.linspace(start=1e-5, stop=1, num=1000)\n",
    "likelihoods = [get_likelihood(l) for l in ls]\n",
    "\n",
    "fig, (ax1) = plt.subplots(1, 1)\n",
    "ax1.plot(ls, likelihoods)\n",
    "\n",
    "ax1.grid()\n",
    "ax1.set_title(\"Likelihood over hyperparameter l\")\n",
    "ax1.set(xlabel=\"$l$\", ylabel=\"$log p(y|X)$\")\n",
    "plt.show()\n",
    "\n",
    "best_l = ls[np.argmax(likelihoods)]\n",
    "print(f\"best l at {best_l} with {np.max(likelihoods)}\")\n",
    "plot_gp(\n",
    "    [\n",
    "        GaussianProcess(\n",
    "            SquaredExponentialKernel(l=best_l), X_train, y_train, g_train, noise, noise\n",
    "        )\n",
    "    ],\n",
    "    SquaredExponentialKernel.__name__,\n",
    ")"
   ]
  },
  {
   "cell_type": "markdown",
   "metadata": {},
   "source": [
    "## Using average distance as length scale"
   ]
  },
  {
   "cell_type": "code",
   "execution_count": null,
   "metadata": {},
   "outputs": [],
   "source": [
    "average_distance = (np.max(X_train) - np.min(X_train)) / (\n",
    "    2.0 * len(X_train)\n",
    ")  # TODO: Think about if there is a smarter choice than 2\n",
    "process = GaussianProcess(\n",
    "    SquaredExponentialKernel(l=average_distance),\n",
    "    X_train,\n",
    "    y_train,\n",
    "    g_train,\n",
    "    noise,\n",
    "    noise,\n",
    ")\n",
    "\n",
    "plot_gp([process], label=SquaredExponentialKernel.__name__)\n",
    "\n",
    "print(\n",
    "    f\"log marginal likelihood at l={average_distance} is {process.log_marginal_likelihood()}\"\n",
    ")"
   ]
  },
  {
   "cell_type": "markdown",
   "metadata": {},
   "source": [
    "## Using minimum distance as length scale"
   ]
  },
  {
   "cell_type": "code",
   "execution_count": null,
   "metadata": {},
   "outputs": [],
   "source": [
    "min_distance = np.min([np.abs(a - b) for a, b in itertools.pairwise(X_train)])\n",
    "process = GaussianProcess(\n",
    "    SquaredExponentialKernel(l=min_distance), X_train, y_train, g_train, noise, noise\n",
    ")\n",
    "\n",
    "plot_gp([process], label=SquaredExponentialKernel.__name__)\n",
    "\n",
    "print(\n",
    "    f\"log marginal likelihood at l={min_distance} is {process.log_marginal_likelihood()}\"\n",
    ")"
   ]
  }
 ],
 "metadata": {
  "kernelspec": {
   "display_name": "Python 3",
   "language": "python",
   "name": "python3"
  },
  "language_info": {
   "codemirror_mode": {
    "name": "ipython",
    "version": 3
   },
   "file_extension": ".py",
   "mimetype": "text/x-python",
   "name": "python",
   "nbconvert_exporter": "python",
   "pygments_lexer": "ipython3",
   "version": "3.12.2"
  }
 },
 "nbformat": 4,
 "nbformat_minor": 2
}
