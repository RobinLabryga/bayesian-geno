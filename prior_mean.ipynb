{
 "cells": [
  {
   "cell_type": "markdown",
   "metadata": {},
   "source": [
    "# Posterior mean"
   ]
  },
  {
   "cell_type": "code",
   "execution_count": null,
   "metadata": {},
   "outputs": [],
   "source": [
    "import numpy as np\n",
    "import matplotlib.pyplot as plt\n",
    "import gaussian_process.GPfunctions as gp\n",
    "from gaussian_process import GaussianProcess\n",
    "from gaussian_process.kernels import SquaredExponentialKernel, CubicKernel\n",
    "from gaussian_process.prior_mean import ConstantMean, LinearMean, SquareMean"
   ]
  },
  {
   "cell_type": "code",
   "execution_count": null,
   "metadata": {},
   "outputs": [],
   "source": [
    "# Objective function\n",
    "\n",
    "objectiveFunction = lambda x: -x * np.sin(x)\n",
    "objectiveFunctionDerivative = lambda x: -x * np.cos(x) - np.sin(x)\n",
    "\n",
    "X = np.linspace(start=-3.0, stop=3.0, num=1_000)\n",
    "y = objectiveFunction(X)\n",
    "g = objectiveFunctionDerivative(X)\n",
    "\n",
    "\n",
    "rng = np.random.default_rng(1)\n",
    "training_indices = rng.choice(np.arange(y.size), size=6, replace=False)\n",
    "X_train, y_train, g_train = (\n",
    "    X[training_indices],\n",
    "    y[training_indices],\n",
    "    g[training_indices],\n",
    ")"
   ]
  },
  {
   "cell_type": "code",
   "execution_count": null,
   "metadata": {},
   "outputs": [],
   "source": [
    "kernel = SquaredExponentialKernel()\n",
    "\n",
    "prior_mean_function = SquareMean()\n",
    "\n",
    "GP_prior = GaussianProcess(kernel, prior_mean=prior_mean_function)\n",
    "prior_mean, prior_variance = GP_prior(X)\n",
    "prior_mean_derivative, prior_mean_derivative_variance = GP_prior.derivative(X)\n",
    "\n",
    "GP_posterior = GaussianProcess(\n",
    "    kernel,\n",
    "    x_known=X_train,\n",
    "    f_known=y_train,\n",
    "    g_known=g_train,\n",
    "    prior_mean=prior_mean_function,\n",
    ")\n",
    "posterior_mean, posterior_variance = GP_posterior(X)\n",
    "posterior_mean_derivative, posterior_mean_derivative_variance = GP_posterior.derivative(\n",
    "    X\n",
    ")\n",
    "\n",
    "fig, (ax1, ax2) = plt.subplots(1, 2, sharey=True)\n",
    "\n",
    "gp.plot_gp(ax1, X, prior_mean, prior_variance)\n",
    "gp.plot_gp(\n",
    "    ax1, X, prior_mean_derivative, prior_mean_derivative_variance, label=\"derivative\"\n",
    ")\n",
    "gp.plot_label(ax1, \"Prior\")\n",
    "\n",
    "gp.plot_objective(ax2, X, y, X_train, y_train)\n",
    "gp.plot_gp(ax2, X, posterior_mean, posterior_variance)\n",
    "gp.plot_gp(\n",
    "    ax2,\n",
    "    X,\n",
    "    posterior_mean_derivative,\n",
    "    posterior_mean_derivative_variance,\n",
    "    label=\"derivative\",\n",
    ")\n",
    "gp.plot_label(ax2, \"Posterior\")\n",
    "\n",
    "fig.suptitle(prior_mean_function.__class__.__name__)\n",
    "fig.set_figwidth(15)\n",
    "plt.show()"
   ]
  },
  {
   "cell_type": "code",
   "execution_count": null,
   "metadata": {},
   "outputs": [],
   "source": [
    "kernel = CubicKernel()\n",
    "\n",
    "prior_mean_function = SquareMean()\n",
    "\n",
    "GP_prior = GaussianProcess(kernel, prior_mean=prior_mean_function)\n",
    "prior_mean, prior_variance = GP_prior(X)\n",
    "prior_mean_derivative, prior_mean_derivative_variance = GP_prior.derivative(X)\n",
    "\n",
    "GP_posterior = GaussianProcess(\n",
    "    kernel,\n",
    "    x_known=X_train,\n",
    "    f_known=y_train,\n",
    "    g_known=g_train,\n",
    "    prior_mean=prior_mean_function,\n",
    ")\n",
    "posterior_mean, posterior_variance = GP_posterior(X)\n",
    "posterior_mean_derivative, posterior_mean_derivative_variance = GP_posterior.derivative(\n",
    "    X\n",
    ")\n",
    "\n",
    "fig, (ax1, ax2) = plt.subplots(1, 2, sharey=True)\n",
    "\n",
    "gp.plot_gp(ax1, X, prior_mean, prior_variance)\n",
    "gp.plot_gp(ax1, X, prior_mean_derivative, prior_mean_derivative_variance)\n",
    "gp.plot_label(ax1, \"Prior\")\n",
    "\n",
    "gp.plot_objective(ax2, X, y, X_train, y_train)\n",
    "gp.plot_gp(ax2, X, posterior_mean, posterior_variance)\n",
    "gp.plot_gp(\n",
    "    ax2,\n",
    "    X,\n",
    "    posterior_mean_derivative,\n",
    "    posterior_mean_derivative_variance,\n",
    "    label=\"Derivative\",\n",
    ")\n",
    "gp.plot_label(ax2, \"Posterior\")\n",
    "\n",
    "fig.suptitle(prior_mean_function.__class__.__name__)\n",
    "fig.set_figwidth(15)\n",
    "plt.show()"
   ]
  }
 ],
 "metadata": {
  "kernelspec": {
   "display_name": "Python 3",
   "language": "python",
   "name": "python3"
  },
  "language_info": {
   "codemirror_mode": {
    "name": "ipython",
    "version": 3
   },
   "file_extension": ".py",
   "mimetype": "text/x-python",
   "name": "python",
   "nbconvert_exporter": "python",
   "pygments_lexer": "ipython3",
   "version": "3.12.2"
  }
 },
 "nbformat": 4,
 "nbformat_minor": 2
}
