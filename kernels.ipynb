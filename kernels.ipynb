{
 "cells": [
  {
   "cell_type": "markdown",
   "metadata": {},
   "source": [
    "# Testing Kernels/Covariance functions"
   ]
  },
  {
   "cell_type": "markdown",
   "metadata": {},
   "source": [
    "One can check if the derivatives look right via [desmos](https://www.desmos.com/3d/urvu7exzyx)"
   ]
  },
  {
   "cell_type": "code",
   "execution_count": null,
   "metadata": {},
   "outputs": [],
   "source": [
    "import numpy as np\n",
    "import matplotlib.pyplot as plt\n",
    "from gaussian_process import GaussianProcess\n",
    "from gaussian_process import GPfunctions\n",
    "from gaussian_process.kernels import *\n",
    "import itertools\n",
    "\n",
    "# TODO: Share y-axes between graphs or have y-axis on right graphs labeled"
   ]
  },
  {
   "cell_type": "code",
   "execution_count": null,
   "metadata": {},
   "outputs": [],
   "source": [
    "# Setup\n",
    "\n",
    "X = np.linspace(start=-3.0, stop=3.0, num=1_000)\n",
    "\n",
    "objectiveFunction = lambda x: -x * np.sin(x)\n",
    "objectiveFunctionDerivative = lambda x: -x * np.cos(x) - np.sin(x)\n",
    "\n",
    "y = objectiveFunction(X)\n",
    "g = objectiveFunctionDerivative(X)\n",
    "\n",
    "rng = np.random.default_rng(1)\n",
    "training_indices = rng.choice(np.arange(y.size), size=6, replace=False)\n",
    "X_train, y_train, g_train = (\n",
    "    X[training_indices],\n",
    "    y[training_indices],\n",
    "    g[training_indices],\n",
    ")"
   ]
  },
  {
   "cell_type": "code",
   "execution_count": null,
   "metadata": {},
   "outputs": [],
   "source": [
    "def plot_kernel(ax, kernel: Kernel, plotDerivatives: bool = True):\n",
    "    offset = 1.0\n",
    "    ax.plot(X, [kernel(offset, x) for x in X], label=f\"k({offset},x)\")\n",
    "    ax.plot(X, [kernel(x, offset) for x in X], label=f\"k(x,{offset})\")\n",
    "    if plotDerivatives:\n",
    "        ax.plot(\n",
    "            X, [kernel.derivative_rhs(offset, x) for x in X], label=f\"dk({offset},x)\"\n",
    "        )\n",
    "        ax.plot(\n",
    "            X, [kernel.derivative_lhs(x, offset) for x in X], label=f\"dk(x,{offset})\"\n",
    "        )\n",
    "        ax.plot(\n",
    "            X,\n",
    "            [kernel.derivative_lhsrhs(offset, x) for x in X],\n",
    "            label=f\"ddk({offset},x)\",\n",
    "        )\n",
    "        ax.plot(\n",
    "            X,\n",
    "            [kernel.derivative_lhsrhs(x, offset) for x in X],\n",
    "            label=f\"ddk(x,{offset})\",\n",
    "        )\n",
    "\n",
    "\n",
    "def plot_label(ax, title):\n",
    "    ax.legend()\n",
    "    ax.grid()\n",
    "    ax.set_title(title)\n",
    "    ax.set(xlabel=\"$x$\", ylabel=\"$f(x)$\")\n",
    "    ax.label_outer()"
   ]
  },
  {
   "cell_type": "markdown",
   "metadata": {},
   "source": [
    "## Squared exponential"
   ]
  },
  {
   "cell_type": "code",
   "execution_count": null,
   "metadata": {},
   "outputs": [],
   "source": [
    "ls = [0.5, 1.0, 2.0]\n",
    "\n",
    "for l in ls:\n",
    "    kernel = SquaredExponentialKernel(l)\n",
    "\n",
    "    gp = GaussianProcess(kernel, X_train, y_train, g_train)\n",
    "    mean, variance = gp(X)\n",
    "\n",
    "    fig, (ax1, ax2) = plt.subplots(1, 2)\n",
    "    plot_kernel(ax1, kernel)\n",
    "    GPfunctions.plot_objective(ax2, X, y, X_train, y_train)\n",
    "    GPfunctions.plot_gp(ax2, X, mean, variance, label=\"GP\")\n",
    "    plot_label(ax1, title=\"Kernel\")\n",
    "    plot_label(ax2, title=\"GP\")\n",
    "    fig.suptitle(f\"{kernel.__class__.__name__}, l={l}\")\n",
    "    fig.set_figwidth(15)\n",
    "    plt.show()\n",
    "\n",
    "    assert kernel.is_symmetric\n",
    "    assert kernel.is_positive_definite\n",
    "    assert kernel.is_covariance_function"
   ]
  },
  {
   "cell_type": "markdown",
   "metadata": {},
   "source": [
    "## Exponential"
   ]
  },
  {
   "cell_type": "code",
   "execution_count": null,
   "metadata": {},
   "outputs": [],
   "source": [
    "ls = [0.5, 1.0, 2.0]\n",
    "\n",
    "for l in ls:\n",
    "    kernel = ExponentialKernel(l)\n",
    "\n",
    "    # Results with g_train are weird, because derivative at 0 is NaN or infinity\n",
    "    gp = GaussianProcess(kernel, X_train, y_train)\n",
    "    mean, variance = gp(X)\n",
    "\n",
    "    fig, (ax1, ax2) = plt.subplots(1, 2)\n",
    "    plot_kernel(ax1, kernel)\n",
    "    GPfunctions.plot_objective(ax2, X, y, X_train, y_train)\n",
    "    GPfunctions.plot_gp(ax2, X, mean, variance, label=\"GP\")\n",
    "    plot_label(ax1, title=\"Kernel\")\n",
    "    plot_label(ax2, title=\"GP\")\n",
    "    fig.suptitle(f\"{kernel.__class__.__name__}, l={l}\")\n",
    "    fig.set_figwidth(15)\n",
    "    plt.show()\n",
    "\n",
    "    assert kernel.is_symmetric\n",
    "    assert kernel.is_positive_definite\n",
    "    assert kernel.is_covariance_function"
   ]
  },
  {
   "cell_type": "markdown",
   "metadata": {},
   "source": [
    "## Gamma exponential"
   ]
  },
  {
   "cell_type": "code",
   "execution_count": null,
   "metadata": {},
   "outputs": [],
   "source": [
    "gammas = [0.9, 1.0, 1.5, 2.0]\n",
    "ls = [0.5, 1.0, 2.0]\n",
    "\n",
    "for gamma, l in itertools.product(gammas, ls):\n",
    "    kernel = GammaExponentialKernel(gamma=gamma, l=l)\n",
    "\n",
    "    # Results with g_train are weird, because derivative at 0 is NaN or infinity\n",
    "    gp = GaussianProcess(\n",
    "        kernel, X_train, y_train, g_known=g_train if gamma == 2.0 else None\n",
    "    )\n",
    "    mean, variance = gp(X)\n",
    "\n",
    "    fig, (ax1, ax2) = plt.subplots(1, 2)\n",
    "    plot_kernel(ax1, kernel)\n",
    "    GPfunctions.plot_objective(ax2, X, y, X_train, y_train)\n",
    "    GPfunctions.plot_gp(ax2, X, mean, variance, label=\"GP\")\n",
    "    plot_label(ax1, title=\"Kernel\")\n",
    "    plot_label(ax2, title=\"GP\")\n",
    "    fig.suptitle(f\"{kernel.__class__.__name__}, gamma={gamma}, l={l}\")\n",
    "    fig.set_figwidth(15)\n",
    "    plt.show()\n",
    "\n",
    "    assert kernel.is_symmetric\n",
    "    assert kernel.is_positive_definite\n",
    "    assert kernel.is_covariance_function"
   ]
  },
  {
   "cell_type": "markdown",
   "metadata": {},
   "source": [
    "## Cubic"
   ]
  },
  {
   "cell_type": "code",
   "execution_count": null,
   "metadata": {},
   "outputs": [],
   "source": [
    "kernel = CubicKernel()\n",
    "\n",
    "gp = GaussianProcess(kernel, X_train, y_train, g_train)\n",
    "mean, variance = gp(X)\n",
    "\n",
    "fig, (ax1, ax2) = plt.subplots(1, 2)\n",
    "plot_kernel(ax1, kernel)\n",
    "GPfunctions.plot_objective(ax2, X, y, X_train, y_train)\n",
    "GPfunctions.plot_gp(ax2, X, mean, variance, label=\"GP\")\n",
    "plot_label(ax1, title=\"Kernel\")\n",
    "plot_label(ax2, title=\"GP\")\n",
    "fig.suptitle(kernel.__class__.__name__)\n",
    "fig.set_figwidth(15)\n",
    "plt.show()\n",
    "\n",
    "assert kernel.is_symmetric\n",
    "assert not kernel.is_positive_definite\n",
    "assert not kernel.is_covariance_function"
   ]
  },
  {
   "cell_type": "markdown",
   "metadata": {},
   "source": [
    "## Rational quadratic"
   ]
  },
  {
   "cell_type": "code",
   "execution_count": null,
   "metadata": {},
   "outputs": [],
   "source": [
    "alphas = [0.5, 1.0, 2.0]\n",
    "ls = [0.5, 1.0, 2.0]\n",
    "\n",
    "for alpha, l in itertools.product(alphas, ls):\n",
    "    kernel = RationalQuadraticKernel(alpha=alpha, l=l)\n",
    "\n",
    "    gp = GaussianProcess(kernel, X_train, y_train, g_train)\n",
    "    mean, variance = gp(X)\n",
    "\n",
    "    fig, (ax1, ax2) = plt.subplots(1, 2)\n",
    "    plot_kernel(ax1, kernel)\n",
    "    GPfunctions.plot_objective(ax2, X, y, X_train, y_train)\n",
    "    GPfunctions.plot_gp(ax2, X, mean, variance, label=\"GP\")\n",
    "    plot_label(ax1, title=\"Kernel\")\n",
    "    plot_label(ax2, title=\"GP\")\n",
    "    fig.suptitle({f\"{kernel.__class__.__name__}, alpha={alpha}, l={l}\"})\n",
    "    fig.set_figwidth(15)\n",
    "    plt.show()\n",
    "\n",
    "    assert kernel.is_symmetric\n",
    "    assert kernel.is_positive_definite\n",
    "    assert kernel.is_covariance_function"
   ]
  },
  {
   "cell_type": "markdown",
   "metadata": {},
   "source": [
    "## Matern"
   ]
  },
  {
   "cell_type": "code",
   "execution_count": null,
   "metadata": {},
   "outputs": [],
   "source": [
    "ls = [0.5, 1.0, 2.0]\n",
    "\n",
    "for l in ls:\n",
    "    kernel = Matern1_5Kernel(l=l)\n",
    "\n",
    "    gp = GaussianProcess(kernel, X_train, y_train, g_train)\n",
    "    mean, variance = gp(X)\n",
    "\n",
    "    fig, (ax1, ax2) = plt.subplots(1, 2)\n",
    "    plot_kernel(ax1, kernel)\n",
    "    GPfunctions.plot_objective(ax2, X, y, X_train, y_train)\n",
    "    GPfunctions.plot_gp(ax2, X, mean, variance, label=\"GP\")\n",
    "    plot_label(ax1, title=\"Kernel\")\n",
    "    plot_label(ax2, title=\"GP\")\n",
    "    fig.suptitle({f\"{kernel.__class__.__name__}, l={l}\"})\n",
    "    fig.set_figwidth(15)\n",
    "    plt.show()\n",
    "\n",
    "    assert kernel.is_symmetric\n",
    "    assert kernel.is_positive_definite\n",
    "    assert kernel.is_covariance_function\n",
    "\n",
    "for l in ls:\n",
    "    kernel = Matern2_5Kernel(l=l)\n",
    "\n",
    "    gp = GaussianProcess(kernel, X_train, y_train, g_train)\n",
    "    mean, variance = gp(X)\n",
    "\n",
    "    fig, (ax1, ax2) = plt.subplots(1, 2)\n",
    "    plot_kernel(ax1, kernel)\n",
    "    GPfunctions.plot_objective(ax2, X, y, X_train, y_train)\n",
    "    GPfunctions.plot_gp(ax2, X, mean, variance, label=\"GP\")\n",
    "    plot_label(ax1, title=\"Kernel\")\n",
    "    plot_label(ax2, title=\"GP\")\n",
    "    fig.suptitle({f\"{kernel.__class__.__name__}, l={l}\"})\n",
    "    fig.set_figwidth(15)\n",
    "    plt.show()\n",
    "\n",
    "    assert kernel.is_symmetric\n",
    "    assert kernel.is_positive_definite\n",
    "    assert kernel.is_covariance_function"
   ]
  },
  {
   "cell_type": "markdown",
   "metadata": {},
   "source": [
    "## Polyharmonic Spline"
   ]
  },
  {
   "cell_type": "code",
   "execution_count": null,
   "metadata": {},
   "outputs": [],
   "source": [
    "ks = [1, 2, 3, 4, 5, 6, 7]\n",
    "\n",
    "for k in ks:\n",
    "    kernel = PolyharmonicSplineKernel(k=k)\n",
    "\n",
    "    gp = GaussianProcess(kernel, X_train, y_train, g_known=g_train if k != 2 else None)\n",
    "    mean, variance = gp(X)\n",
    "\n",
    "    fig, (ax1, ax2) = plt.subplots(1, 2)\n",
    "    plot_kernel(ax1, kernel)\n",
    "    GPfunctions.plot_objective(ax2, X, y, X_train, y_train)\n",
    "    GPfunctions.plot_gp(ax2, X, mean, variance, label=\"GP\")\n",
    "    plot_label(ax1, title=\"Kernel\")\n",
    "    plot_label(ax2, title=\"GP\")\n",
    "    fig.suptitle({f\"{kernel.__class__.__name__}, k={k}\"})\n",
    "    fig.set_figwidth(15)\n",
    "    plt.show()\n",
    "\n",
    "    assert kernel.is_symmetric\n",
    "    assert not kernel.is_positive_definite\n",
    "    assert not kernel.is_covariance_function"
   ]
  },
  {
   "cell_type": "markdown",
   "metadata": {},
   "source": [
    "## Constant"
   ]
  },
  {
   "cell_type": "code",
   "execution_count": null,
   "metadata": {},
   "outputs": [],
   "source": [
    "cs = [0.0, 0.1, 1.0, 2.0]\n",
    "\n",
    "for c in cs:\n",
    "    kernel = ConstantKernel(c=c)\n",
    "\n",
    "    gp = GaussianProcess(kernel, X_train, y_train, f_noise=1.0)\n",
    "    mean, variance = gp(X)\n",
    "\n",
    "    fig, (ax1, ax2) = plt.subplots(1, 2)\n",
    "    plot_kernel(ax1, kernel)\n",
    "    GPfunctions.plot_objective(ax2, X, y, X_train, y_train)\n",
    "    GPfunctions.plot_gp(ax2, X, mean, variance, label=\"GP\")\n",
    "    plot_label(ax1, title=\"Kernel\")\n",
    "    plot_label(ax2, title=\"GP\")\n",
    "    fig.suptitle({f\"{kernel.__class__.__name__}, c={c}\"})\n",
    "    fig.set_figwidth(15)\n",
    "    plt.show()\n",
    "\n",
    "    assert kernel.is_symmetric\n",
    "    assert kernel.is_positive_definite\n",
    "    assert kernel.is_covariance_function"
   ]
  },
  {
   "cell_type": "markdown",
   "metadata": {},
   "source": [
    "## Linear"
   ]
  },
  {
   "cell_type": "code",
   "execution_count": null,
   "metadata": {},
   "outputs": [],
   "source": [
    "slopes = [0.1, 1.0, 2.0]\n",
    "\n",
    "for a in slopes:\n",
    "    kernel = KernelSum(LinearKernel(a=a), ConstantKernel(1.0))\n",
    "\n",
    "    gp = GaussianProcess(kernel, X_train, y_train, f_noise=1.0)\n",
    "    mean, variance = gp(X)\n",
    "\n",
    "    fig, (ax1, ax2) = plt.subplots(1, 2)\n",
    "    plot_kernel(ax1, kernel)\n",
    "    GPfunctions.plot_objective(ax2, X, y, X_train, y_train)\n",
    "    GPfunctions.plot_gp(ax2, X, mean, variance, label=\"GP\")\n",
    "    plot_label(ax1, title=\"Kernel\")\n",
    "    plot_label(ax2, title=\"GP\")\n",
    "    fig.suptitle({f\"{kernel.__class__.__name__}, a={a}\"})\n",
    "    fig.set_figwidth(15)\n",
    "    plt.show()\n",
    "\n",
    "    assert kernel.is_symmetric\n",
    "    assert kernel.is_positive_definite\n",
    "    assert kernel.is_covariance_function"
   ]
  },
  {
   "cell_type": "markdown",
   "metadata": {},
   "source": [
    "## Polynomial"
   ]
  },
  {
   "cell_type": "code",
   "execution_count": null,
   "metadata": {},
   "outputs": [],
   "source": [
    "ps = [2, 3, 4]\n",
    "sigmas = [0.0, 0.5, 1.0, 2.0]\n",
    "\n",
    "for p, sigma in itertools.product(ps, sigmas):\n",
    "\n",
    "    kernel = PolynomialKernel(p=p, sigma=sigma)\n",
    "\n",
    "    gp = GaussianProcess(kernel, X_train, y_train, g_train, f_noise=0.1, g_noise=0.1)\n",
    "    mean, variance = gp(X)\n",
    "\n",
    "    fig, (ax1, ax2) = plt.subplots(1, 2)\n",
    "    plot_kernel(ax1, kernel)\n",
    "    GPfunctions.plot_objective(ax2, X, y, X_train, y_train)\n",
    "    GPfunctions.plot_gp(ax2, X, mean, variance, label=\"GP\")\n",
    "    plot_label(ax1, title=\"Kernel\")\n",
    "    plot_label(ax2, title=\"GP\")\n",
    "    fig.suptitle({f\"{kernel.__class__.__name__}, p={p}, sigma={sigma}\"})\n",
    "    fig.set_figwidth(15)\n",
    "    plt.show()\n",
    "\n",
    "    assert kernel.is_symmetric\n",
    "    assert kernel.is_positive_definite\n",
    "    assert kernel.is_covariance_function"
   ]
  },
  {
   "cell_type": "markdown",
   "metadata": {},
   "source": [
    "## Brownian"
   ]
  },
  {
   "cell_type": "code",
   "execution_count": null,
   "metadata": {},
   "outputs": [],
   "source": [
    "kernel = BrownianKernel()\n",
    "\n",
    "gp = GaussianProcess(kernel, X_train, y_train, f_noise=1e-10)\n",
    "mean, variance = gp(X)\n",
    "\n",
    "fig, (ax1, ax2) = plt.subplots(1, 2)\n",
    "plot_kernel(ax1, kernel)\n",
    "GPfunctions.plot_objective(ax2, X, y, X_train, y_train)\n",
    "GPfunctions.plot_gp(ax2, X, mean, variance, label=\"GP\")\n",
    "plot_label(ax1, title=\"Kernel\")\n",
    "plot_label(ax2, title=\"GP\")\n",
    "fig.suptitle({f\"{kernel.__class__.__name__}, p={p}, sigma={sigma}\"})\n",
    "fig.set_figwidth(15)\n",
    "plt.show()\n",
    "\n",
    "assert kernel.is_symmetric\n",
    "assert not kernel.is_positive_definite\n",
    "assert not kernel.is_covariance_function"
   ]
  },
  {
   "cell_type": "markdown",
   "metadata": {},
   "source": [
    "## Sinc"
   ]
  },
  {
   "cell_type": "code",
   "execution_count": null,
   "metadata": {},
   "outputs": [],
   "source": [
    "kernel = SincKernel()\n",
    "\n",
    "gp = GaussianProcess(kernel, X_train, y_train, g_train, g_noise=1e-10)\n",
    "mean, variance = gp(X)\n",
    "\n",
    "fig, (ax1, ax2) = plt.subplots(1, 2)\n",
    "plot_kernel(ax1, kernel)\n",
    "GPfunctions.plot_objective(ax2, X, y, X_train, y_train)\n",
    "GPfunctions.plot_gp(ax2, X, mean, variance, label=\"GP\")\n",
    "plot_label(ax1, title=\"Kernel\")\n",
    "plot_label(ax2, title=\"GP\")\n",
    "fig.suptitle({f\"{kernel.__class__.__name__}\"})\n",
    "fig.set_figwidth(15)\n",
    "plt.show()\n",
    "\n",
    "assert kernel.is_symmetric\n",
    "assert not kernel.is_positive_definite\n",
    "assert not kernel.is_covariance_function"
   ]
  },
  {
   "cell_type": "markdown",
   "metadata": {},
   "source": [
    "## Product Kernel"
   ]
  },
  {
   "cell_type": "code",
   "execution_count": null,
   "metadata": {},
   "outputs": [],
   "source": [
    "kernel = KernelProduct(PolynomialKernel(p=5), SquaredExponentialKernel())\n",
    "\n",
    "gp = GaussianProcess(kernel, X_train, y_train, g_train)\n",
    "mean, variance = gp(X)\n",
    "\n",
    "fig, (ax1, ax2) = plt.subplots(1, 2)\n",
    "plot_kernel(ax1, kernel)\n",
    "GPfunctions.plot_objective(ax2, X, y, X_train, y_train)\n",
    "GPfunctions.plot_gp(ax2, X, mean, variance, label=\"GP\")\n",
    "plot_label(ax1, title=\"Kernel\")\n",
    "plot_label(ax2, title=\"GP\")\n",
    "fig.suptitle({f\"{kernel.__class__.__name__}\"})\n",
    "fig.set_figwidth(15)\n",
    "plt.show()\n",
    "\n",
    "assert kernel.is_symmetric\n",
    "assert kernel.is_positive_definite\n",
    "assert kernel.is_covariance_function"
   ]
  },
  {
   "cell_type": "markdown",
   "metadata": {},
   "source": [
    "## Sum Kernel"
   ]
  },
  {
   "cell_type": "code",
   "execution_count": null,
   "metadata": {},
   "outputs": [],
   "source": [
    "kernel = KernelSum(PolynomialKernel(p=5), SquaredExponentialKernel())\n",
    "\n",
    "gp = GaussianProcess(kernel, X_train, y_train, g_train)\n",
    "mean, variance = gp(X)\n",
    "\n",
    "fig, (ax1, ax2) = plt.subplots(1, 2)\n",
    "plot_kernel(ax1, kernel)\n",
    "GPfunctions.plot_objective(ax2, X, y, X_train, y_train)\n",
    "GPfunctions.plot_gp(ax2, X, mean, variance, label=\"GP\")\n",
    "plot_label(ax1, title=\"Kernel\")\n",
    "plot_label(ax2, title=\"GP\")\n",
    "fig.suptitle({f\"{kernel.__class__.__name__}\"})\n",
    "fig.set_figwidth(15)\n",
    "plt.show()\n",
    "\n",
    "assert kernel.is_symmetric\n",
    "assert kernel.is_positive_definite\n",
    "assert kernel.is_covariance_function"
   ]
  }
 ],
 "metadata": {
  "kernelspec": {
   "display_name": "Python 3",
   "language": "python",
   "name": "python3"
  },
  "language_info": {
   "codemirror_mode": {
    "name": "ipython",
    "version": 3
   },
   "file_extension": ".py",
   "mimetype": "text/x-python",
   "name": "python",
   "nbconvert_exporter": "python",
   "pygments_lexer": "ipython3",
   "version": "3.12.2"
  }
 },
 "nbformat": 4,
 "nbformat_minor": 2
}
