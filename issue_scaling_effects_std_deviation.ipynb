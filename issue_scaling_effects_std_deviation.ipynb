{
 "cells": [
  {
   "cell_type": "markdown",
   "metadata": {},
   "source": [
    "# Scaling effects std deviation"
   ]
  },
  {
   "cell_type": "markdown",
   "metadata": {},
   "source": [
    "Since the std deviation is a square root, it is larger when the values are small, and smaller when the values are large. Thus scaling to a constant range for all values makes sense, to have consistent scale of the std deviation."
   ]
  },
  {
   "cell_type": "code",
   "execution_count": null,
   "metadata": {},
   "outputs": [],
   "source": [
    "import numpy as np\n",
    "import matplotlib.pyplot as plt\n",
    "import gaussian_process.GPfunctions as gp\n",
    "from gaussian_process import GaussianProcess\n",
    "from gaussian_process.kernels import Matern2_5Kernel\n",
    "from gaussian_process import GPPrediction"
   ]
  },
  {
   "cell_type": "code",
   "execution_count": null,
   "metadata": {},
   "outputs": [],
   "source": [
    "X = np.linspace(start=0.0, stop=1.0, num=1_000)"
   ]
  },
  {
   "cell_type": "code",
   "execution_count": null,
   "metadata": {},
   "outputs": [],
   "source": [
    "# Solve by varying hyperparameters\n",
    "kernel = Matern2_5Kernel(l=1)\n",
    "\n",
    "X_train = np.array([0.0, 1.0])\n",
    "f_train = np.array([1.0, 0.0])\n",
    "g_train = np.array([-1.5, -1])\n",
    "f_noise = 1e-14\n",
    "g_noise = 1e-14\n",
    "\n",
    "scales = [1 / 4, 1 / 2, 1, 2, 4]\n",
    "\n",
    "for scale in scales:\n",
    "    GP_posterior = GaussianProcess(\n",
    "        kernel,\n",
    "        x_known=X_train,\n",
    "        f_known=f_train * scale,\n",
    "        g_known=g_train * scale,\n",
    "        f_noise=f_noise,\n",
    "        g_noise=g_noise,\n",
    "    )\n",
    "\n",
    "    pred = GPPrediction(X, GP_posterior)\n",
    "\n",
    "    fig, (ax1) = plt.subplots(1, 1, sharey=True)\n",
    "\n",
    "    ax1.scatter(X_train, f_train * scale, label=\"Observations\")\n",
    "    gp.plot_gp(ax1, X, pred.mean, pred.std_deviation)\n",
    "    gp.plot_label(ax1, f\"Gaussian Process with {kernel.__class__.__name__}\")\n",
    "\n",
    "    fig.suptitle(f\"Scale {scale}\")\n",
    "    fig.set_figwidth(15)\n",
    "    plt.show()"
   ]
  }
 ],
 "metadata": {
  "kernelspec": {
   "display_name": "Python 3",
   "language": "python",
   "name": "python3"
  },
  "language_info": {
   "codemirror_mode": {
    "name": "ipython",
    "version": 3
   },
   "file_extension": ".py",
   "mimetype": "text/x-python",
   "name": "python",
   "nbconvert_exporter": "python",
   "pygments_lexer": "ipython3",
   "version": "3.12.2"
  }
 },
 "nbformat": 4,
 "nbformat_minor": 2
}
