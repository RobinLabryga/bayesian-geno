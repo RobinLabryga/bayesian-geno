{
 "cells": [
  {
   "cell_type": "markdown",
   "metadata": {},
   "source": [
    "# Compare acquisition optimizers on precision and speed"
   ]
  },
  {
   "cell_type": "code",
   "execution_count": null,
   "metadata": {},
   "outputs": [],
   "source": [
    "from gaussian_process import GaussianProcess, GPfunctions\n",
    "from gaussian_process.kernels import Matern2_5Kernel\n",
    "from acquisition import AcquisitionFunction, LowerConfidenceBound\n",
    "from acquisition.optimization import (\n",
    "    GradientBinarySearchAcquisitionOptimizer,\n",
    "    DIRECT_LBFGSB_AcquisitionOptimizer,\n",
    "    DE_LBFGSB_AcquisitionOptimizer,\n",
    "    SHGO_LBFGSB_AcquisitionOptimizer,\n",
    "    DA_LBFGSV_AcquisitionOptimizer,\n",
    ")\n",
    "\n",
    "import numpy as np\n",
    "import matplotlib.pyplot as plt\n",
    "import time"
   ]
  },
  {
   "cell_type": "code",
   "execution_count": null,
   "metadata": {},
   "outputs": [],
   "source": [
    "X = np.linspace(start=0.0, stop=1.0, num=1_000)\n",
    "\n",
    "x_known = [0.0, 1.0, 0.36492029, 0.10920915, 0.02193941, 0.00234551]\n",
    "f_known = [\n",
    "    0.00000000e00,\n",
    "    1.00000000e00,\n",
    "    1.32713151e-01,\n",
    "    1.17465087e-02,\n",
    "    4.50827643e-04,\n",
    "    3.76193533e-06,\n",
    "]\n",
    "g_known = [-0.00200667, 2.00197593, 0.72928723, 0.21684655, 0.04195951, 0.00269369]\n",
    "\n",
    "x_known = np.array(x_known)\n",
    "f_known = np.array(f_known)\n",
    "g_known = np.array(g_known)\n",
    "\n",
    "gp = GaussianProcess(Matern2_5Kernel(), x_known, f_known, g_known)\n",
    "\n",
    "acquisition = LowerConfidenceBound(gp)\n",
    "\n",
    "fig, (ax1, ax2) = plt.subplots(2, 1)\n",
    "GPfunctions.plot_gp(ax1, X, gp.mean(X), gp.std_deviation(X))\n",
    "ax2.plot(X, acquisition(X), label=\"Acquisition\")\n",
    "GPfunctions.plot_label(ax1, \"Gaussian Process\")\n",
    "GPfunctions.plot_label(ax2, \"Acquisition\")\n",
    "plt.show()\n",
    "\n",
    "print(f\"Max acquisition at roughly at {X[np.argmax(acquisition(X))]}\")"
   ]
  },
  {
   "cell_type": "code",
   "execution_count": null,
   "metadata": {},
   "outputs": [],
   "source": [
    "class CountedAcquisition:\n",
    "    def __init__(self, acquisition: AcquisitionFunction) -> None:\n",
    "        self.acquisition = acquisition\n",
    "        self.f_count = 0\n",
    "        self.g_count = 0\n",
    "        self.fg_count = 0\n",
    "\n",
    "    def evaluate(self, x: np.ndarray) -> np.ndarray:\n",
    "        self.f_count += 1\n",
    "        return self.acquisition.evaluate(x)\n",
    "\n",
    "    def __call__(self, x: np.ndarray) -> np.ndarray:\n",
    "        return self.evaluate(x)\n",
    "\n",
    "    def derivative(self, x: np.ndarray) -> np.ndarray:\n",
    "        self.g_count += 1\n",
    "        return self.acquisition.derivative(x)\n",
    "\n",
    "    def value_derivative(self, x: np.ndarray) -> tuple[np.ndarray, np.ndarray]:\n",
    "        self.fg_count += 1\n",
    "        return self.acquisition.value_derivative(x)\n",
    "\n",
    "    def __str__(self) -> str:\n",
    "        return f\"f:{self.f_count}, g:{self.g_count}, fg:{self.fg_count}\""
   ]
  },
  {
   "cell_type": "code",
   "execution_count": null,
   "metadata": {},
   "outputs": [],
   "source": [
    "optimizers = [\n",
    "    GradientBinarySearchAcquisitionOptimizer(),\n",
    "    DIRECT_LBFGSB_AcquisitionOptimizer(),\n",
    "    DE_LBFGSB_AcquisitionOptimizer(),\n",
    "    SHGO_LBFGSB_AcquisitionOptimizer(),\n",
    "    DA_LBFGSV_AcquisitionOptimizer(),\n",
    "]\n",
    "\n",
    "for optimizer in optimizers:\n",
    "    counted_acquisition = CountedAcquisition(acquisition)\n",
    "    start = time.time()\n",
    "    x_best = optimizer.maximize(counted_acquisition, 0.0, 1.0, x_known)\n",
    "    for _ in range(100 - 1):\n",
    "        assert x_best == optimizer.maximize(counted_acquisition, 0.0, 1.0, x_known)\n",
    "    end = time.time()\n",
    "    print(\n",
    "        f\"{optimizer.__class__.__name__} Calls:({counted_acquisition}), x_best:{x_best}, f{acquisition(x_best)}:, time:{end-start}\"\n",
    "    )"
   ]
  }
 ],
 "metadata": {
  "kernelspec": {
   "display_name": "Python 3",
   "language": "python",
   "name": "python3"
  },
  "language_info": {
   "codemirror_mode": {
    "name": "ipython",
    "version": 3
   },
   "file_extension": ".py",
   "mimetype": "text/x-python",
   "name": "python",
   "nbconvert_exporter": "python",
   "pygments_lexer": "ipython3",
   "version": "3.12.2"
  }
 },
 "nbformat": 4,
 "nbformat_minor": 2
}
