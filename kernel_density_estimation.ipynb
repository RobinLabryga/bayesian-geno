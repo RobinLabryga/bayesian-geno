{
 "cells": [
  {
   "cell_type": "markdown",
   "metadata": {},
   "source": [
    "# Kernel density estimation for determining best trial step"
   ]
  },
  {
   "cell_type": "code",
   "execution_count": null,
   "metadata": {},
   "outputs": [],
   "source": [
    "import numpy as np\n",
    "import matplotlib.pyplot as plt\n",
    "import random"
   ]
  },
  {
   "cell_type": "code",
   "execution_count": null,
   "metadata": {},
   "outputs": [],
   "source": [
    "scale, offset = .01, 100\n",
    "rng = np.random.default_rng()\n",
    "points = rng.uniform(0.0,1.0,20)\n",
    "\n",
    "points = np.array(sorted(points)) * scale + offset\n",
    "\n",
    "h = abs(max(points) - min(points)) / 10\n",
    "kernel = lambda u: 1/np.sqrt(2*np.pi) * np.exp(-0.5*u**2)\n",
    "density = lambda x: 1 / (len(points) * h) * kernel((x-points) / h).sum()\n",
    "\n",
    "X = np.linspace(start=points[0], stop=points[-1], num=1_000)\n",
    "fig, (ax1) = plt.subplots(1, 1)\n",
    "ax1.scatter(points, points * 0.0, label=\"observations\")\n",
    "ax1.plot(X, [density(x) for x in X], label=\"density function\")\n",
    "ax1.legend()\n",
    "ax1.grid()\n",
    "ax1.set(xlabel=\"$x$\", ylabel=\"$density$\")\n",
    "plt.show()"
   ]
  },
  {
   "cell_type": "code",
   "execution_count": null,
   "metadata": {},
   "outputs": [],
   "source": [
    "from scipy import stats\n",
    "\n",
    "fig, (ax1) = plt.subplots(1, 1)\n",
    "ax1.scatter(points, points * 0.0, label=\"observations\")\n",
    "ax1.plot(X, stats.gaussian_kde(points)(X), label=\"density function\")\n",
    "ax1.legend()\n",
    "ax1.grid()\n",
    "ax1.set(xlabel=\"$x$\", ylabel=\"$density$\")\n",
    "plt.show()"
   ]
  }
 ],
 "metadata": {
  "kernelspec": {
   "display_name": "Python 3",
   "language": "python",
   "name": "python3"
  },
  "language_info": {
   "codemirror_mode": {
    "name": "ipython",
    "version": 3
   },
   "file_extension": ".py",
   "mimetype": "text/x-python",
   "name": "python",
   "nbconvert_exporter": "python",
   "pygments_lexer": "ipython3",
   "version": "3.12.2"
  }
 },
 "nbformat": 4,
 "nbformat_minor": 2
}
